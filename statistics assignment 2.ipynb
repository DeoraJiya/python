{
 "cells": [
  {
   "cell_type": "markdown",
   "id": "75ff568a-60b9-4472-ac33-b69753eaefe3",
   "metadata": {},
   "source": [
    "Q1. What are the three measures of central tendency?\n",
    "\n",
    "The 3 measures of central tendency are mean, median, mode"
   ]
  },
  {
   "cell_type": "markdown",
   "id": "4a1f2dfe-5362-409e-b56d-a249cb3c7329",
   "metadata": {},
   "source": [
    "Q2. What is the difference between the mean, median, and mode? How are they used to measure the\n",
    "central tendency of a dataset?\n",
    "\n",
    "The mean is the average where the sum is used to of all numbers is divided by the total number of numbers\n",
    "The median is the middle value in the list\n",
    "The mode is the value of number that occurs most often\n",
    "\n",
    "The central tendency can be found using the formulas of mean, mode and median."
   ]
  },
  {
   "cell_type": "markdown",
   "id": "cb003310-e81e-4062-99ae-3586dc98447a",
   "metadata": {},
   "source": [
    "Q3. Measure the three measures of central tendency for the given height data:\n",
    "[178,177,176,177,178.2,178,175,179,180,175,178.9,176.2,177,172.5,178,176.5]"
   ]
  },
  {
   "cell_type": "code",
   "execution_count": 1,
   "id": "39db73ac-3cbc-46be-8039-65003e4b75f1",
   "metadata": {},
   "outputs": [
    {
     "data": {
      "text/plain": [
       "177.01875"
      ]
     },
     "execution_count": 1,
     "metadata": {},
     "output_type": "execute_result"
    }
   ],
   "source": [
    "import numpy as np\n",
    "data = [178,177,176,177,178.2,178,175,179,180,175,178.9,176.2,177,172.5,178,176.5]\n",
    "np.mean(data)"
   ]
  },
  {
   "cell_type": "code",
   "execution_count": 3,
   "id": "581af074-438c-4924-b77a-9ef689b2dfd9",
   "metadata": {},
   "outputs": [
    {
     "data": {
      "text/plain": [
       "177.0"
      ]
     },
     "execution_count": 3,
     "metadata": {},
     "output_type": "execute_result"
    }
   ],
   "source": [
    "np.median(data)"
   ]
  },
  {
   "cell_type": "markdown",
   "id": "0f1d3c05-e6aa-4a7d-bfe8-58dba7edf11c",
   "metadata": {},
   "source": [
    "here, the mode is 177 and 178. "
   ]
  },
  {
   "cell_type": "markdown",
   "id": "86742161-fcff-4478-989d-8440dbfa30b0",
   "metadata": {},
   "source": [
    "Q4. Find the standard deviation for the given data:\n",
    "[178,177,176,177,178.2,178,175,179,180,175,178.9,176.2,177,172.5,178,176.5]"
   ]
  },
  {
   "cell_type": "code",
   "execution_count": 5,
   "id": "bdcd5b5a-6df1-460c-a896-4888e10d9184",
   "metadata": {},
   "outputs": [
    {
     "data": {
      "text/plain": [
       "1.7885814036548633"
      ]
     },
     "execution_count": 5,
     "metadata": {},
     "output_type": "execute_result"
    }
   ],
   "source": [
    "import numpy as np\n",
    "data = [178,177,176,177,178.2,178,175,179,180,175,178.9,176.2,177,172.5,178,176.5]\n",
    "np.std(data)"
   ]
  },
  {
   "cell_type": "markdown",
   "id": "afe08d05-229f-4f10-9a5d-733c93228733",
   "metadata": {},
   "source": [
    "Q5. What is a Venn diagram?\n",
    "\n",
    "Venn diagram uses overlapping of circles or other shapes that hints relationships between two or more sets."
   ]
  },
  {
   "cell_type": "markdown",
   "id": "03a2e293-d968-43a4-94c4-3957c22affda",
   "metadata": {},
   "source": [
    "Q7. For the two given sets A = (2,3,4,5,6,7) & B = (0,2,6,8,10). Find:\n",
    "(i) A B\n",
    "(ii) A ⋃ B\n",
    "\n",
    "1.\n",
    "2.2,6"
   ]
  },
  {
   "cell_type": "markdown",
   "id": "fcc11c88-32e4-4b0a-b407-362dfcb5a7af",
   "metadata": {},
   "source": [
    "Q8. What do you understand about skewness in data?\n",
    "\n",
    "Skewness means that smoothens the data."
   ]
  },
  {
   "cell_type": "markdown",
   "id": "f726f20a-145b-4d3a-90d3-66422854e05a",
   "metadata": {},
   "source": [
    "Q9. If a data is right skewed then what will be the position of median with respect to mean?\n",
    "\n",
    "If a data is right skewed then the position of median and mean will fall to the right of it.\n",
    "but the median will be always left to the mean"
   ]
  },
  {
   "cell_type": "markdown",
   "id": "59b3a1a5-6535-48ba-89b1-14be4a7507a4",
   "metadata": {},
   "source": [
    "Q10. Explain the difference between covariance and correlation. How are these measures used in\n",
    "statistical analysis?\n",
    "\n",
    "Both covariance and correlation measure the relationship and the dependency between two variables.\n",
    "Covariance indicates the direction of linear realtionship between variables. Correlation measures both the strength and direction of the linear relationship between two variables."
   ]
  },
  {
   "cell_type": "markdown",
   "id": "e50cd9e4-64c3-4b2c-962b-735639db19a8",
   "metadata": {},
   "source": [
    "Q12. For a normal distribution data what is the relationship between its measure of central tendency?\n",
    "\n",
    "\n",
    "Normal distribution would describe a bell shaped curve that is symmetrical which will give you all equal values."
   ]
  },
  {
   "cell_type": "markdown",
   "id": "aa0b9d28-4466-4f41-99bc-9150adde409c",
   "metadata": {},
   "source": [
    "Q13. How is covariance different from correlation?\n",
    "\n",
    "Covariance indicates the direction whereas Correlation measures the direction and its strength."
   ]
  },
  {
   "cell_type": "markdown",
   "id": "2de8de06-5d13-48ca-9f3e-e23ca60fa860",
   "metadata": {},
   "source": [
    "Q14. How do outliers affect measures of central tendency and dispersion? Provide an example.\n",
    "\n",
    "Mean is the only measure of central tendency that is always affected by an outlier.\n",
    "In real world example: the average height of giraafe is about 16 feet tall. however, there have been recent discoveries of two giraffes that stand at 9 feet and 8.5 feet, respectively. These two giraffes would be considered outliers in comparison to the general giraffe population. "
   ]
  }
 ],
 "metadata": {
  "kernelspec": {
   "display_name": "Python 3 (ipykernel)",
   "language": "python",
   "name": "python3"
  },
  "language_info": {
   "codemirror_mode": {
    "name": "ipython",
    "version": 3
   },
   "file_extension": ".py",
   "mimetype": "text/x-python",
   "name": "python",
   "nbconvert_exporter": "python",
   "pygments_lexer": "ipython3",
   "version": "3.10.8"
  }
 },
 "nbformat": 4,
 "nbformat_minor": 5
}
