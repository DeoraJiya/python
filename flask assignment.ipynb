{
 "cells": [
  {
   "cell_type": "markdown",
   "id": "0335ede8-5c88-4985-9d60-13d504d7bcc8",
   "metadata": {},
   "source": [
    "Q1. WHAT IS FLASK FRAMEWORK? WHAT ARE THE ADVANTAGES OF FLASK FRAMEWORK?"
   ]
  },
  {
   "cell_type": "markdown",
   "id": "ba40ad00-d0a4-43a2-9fb0-85fa0bfbfe9f",
   "metadata": {},
   "source": [
    "FLASK FRAMEWORK IS DESIGNED TO CREATE AND SCALE WEB APPS QUICKLY AND SIMPLY.\n",
    "1.IT IS SUITABLE FOR SMALL PROJECTS.\n",
    "2.EASILY SCALABLE.\n",
    "3.LIGHTWEIGHT FRAMEWORK."
   ]
  },
  {
   "cell_type": "markdown",
   "id": "d55099e8-a89d-43a0-8da7-8ff3291518bb",
   "metadata": {},
   "source": [
    "Q2. CREATE A SIMPLE FLASK APPLICATION TO DISPLAY\"HELLO WORLD!!\"."
   ]
  },
  {
   "cell_type": "code",
   "execution_count": null,
   "id": "3c042e56-32d1-4fe3-839d-8fd6131c6f5e",
   "metadata": {},
   "outputs": [],
   "source": [
    "from flask import Flask\n",
    "app = Flask(__name__)\n",
    "@app.route(\"/\")\n",
    "def hello_world():\n",
    "    return\"<h1>HELLO WORLD!!</h2>\"\n",
    "if__name__==\"__main__\":\n",
    "    app.run(host=\"0.0.0.0\")"
   ]
  },
  {
   "cell_type": "markdown",
   "id": "ff39e915-3802-4385-8f37-20dc4387080f",
   "metadata": {},
   "source": [
    "Q3. WHAT IS APP ROUTING? WHY DO WE USE APP ROUTES?"
   ]
  },
  {
   "cell_type": "markdown",
   "id": "b1a0f107-3fad-4dbf-9d70-fa6943cf01ea",
   "metadata": {},
   "source": [
    "APP ROUTING IS USED THAT HELPS TO ACCESS THE DATA. "
   ]
  },
  {
   "cell_type": "markdown",
   "id": "e0ec4ba0-9085-41f8-8d7a-a5248a3ac356",
   "metadata": {},
   "source": [
    "Q4. CREATE A \"/WELCOME\" ROUTE TO DISPLAY THE WELCOME MESSAGE \"WELCOME TO ABC CORPORATION\" AND \"/\" ROUTE TO SHOW THE FOLLOWING DETAILS:\n",
    "COMPANY NAME: ABC CORPORATION\n",
    "LOCATION: INDIA\n",
    "CONTACT DETAILS: 999-999-9999"
   ]
  },
  {
   "cell_type": "code",
   "execution_count": null,
   "id": "25f5460d-5cbf-431e-9503-07bb14867191",
   "metadata": {},
   "outputs": [],
   "source": [
    "from flask import Flask\n",
    "\n",
    "app = Flask(__name__)\n",
    "\n",
    "\n",
    "@app.route(\"/welcome\")\n",
    "def welcome_msg():\n",
    "    return\"Welcome to ABC Corporation\"\n",
    "\n",
    "@app.route(\"/\")\n",
    "def company_name():\n",
    "    return\"Company name: ABC Corporation\"\n",
    "\n",
    "@app.route(\"/\")\n",
    "def address():\n",
    "    return\"Location: India\"\n",
    "\n",
    "@app.route(\"/\")\n",
    "def contact_number():\n",
    "    return \"Contact details: 999-999-9999\"\n",
    "\n",
    "if__name__==\"__main__\":\n",
    "    app.run(host=\"0.0.0.0\")"
   ]
  },
  {
   "cell_type": "markdown",
   "id": "737ea2e4-ef91-4c39-926e-7adfdf14bdcc",
   "metadata": {},
   "source": [
    "Q5. WHAT FUNCTION IS USED IN FLASK FOR URL BUILDING? WRITE A PYTHON CODE TO DEMONSTRATE THE WORKING OF THE URL_FOR() FUNCTION."
   ]
  },
  {
   "cell_type": "code",
   "execution_count": null,
   "id": "c9cbc5bb-bfd8-457b-b90c-47d4f61f8192",
   "metadata": {},
   "outputs": [],
   "source": []
  }
 ],
 "metadata": {
  "kernelspec": {
   "display_name": "Python 3 (ipykernel)",
   "language": "python",
   "name": "python3"
  },
  "language_info": {
   "codemirror_mode": {
    "name": "ipython",
    "version": 3
   },
   "file_extension": ".py",
   "mimetype": "text/x-python",
   "name": "python",
   "nbconvert_exporter": "python",
   "pygments_lexer": "ipython3",
   "version": "3.10.8"
  }
 },
 "nbformat": 4,
 "nbformat_minor": 5
}
