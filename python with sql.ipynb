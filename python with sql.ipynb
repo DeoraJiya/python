{
 "cells": [
  {
   "cell_type": "markdown",
   "id": "7c16cfa1-7e26-4816-8bc7-a7bca83a3d8f",
   "metadata": {},
   "source": [
    "Q1. WHAT IS A DATABASE? DIFFERNTIATE BETWEEN SQL AND NOSQL.\n",
    "\n",
    "DATA BASE IS NOTHING BUT COLLECTION OF INFORMATION OR DATA THAT IT STORES INTO ITS COMPUTER SYSTEM.\n",
    "IT IS CONTROLLED BY DATABSE MANAGEMENT SYSTEM (DBMS).\n",
    "\n",
    "THERE ARE BASICALLY 2 TYPES OF DATABASES\n",
    "1.SOL\n",
    "2.NOSQL\n",
    "\n",
    "1.SQL IS KNOWN AS STRUCTERED QUERY LANGUAGE.THAT CONTAINS THE DATA IN TABLE FORM.\n",
    "TYPES OF SQL: MYSQL, DB2.\n",
    "2.NOSQL IS KNOWN AS NOT ONLY STRUCTERED QUERY LANGUAGE.THAT CONTAINS THE DATA IN COLLECTION FORM.\n",
    "TYPES OF NOSQL: MONGODB, CASSANDRA."
   ]
  },
  {
   "cell_type": "markdown",
   "id": "ac147cd3-1403-4379-94ed-c8fa2b588ea8",
   "metadata": {},
   "source": [
    "Q2. WHAT IS DDL? EXPLAIN WHY CREATE,DROP,ALTER AND TRUNCATE ARE USED.\n",
    "\n",
    "DDL IS DATA DEFINITION LANGUAGE.IT IS A LANGUAGE FOR DESCRIBING DATA AND ITS RELATIONSHIPS.\n",
    "LIST OF DDL COMMANDS.\n",
    "\n",
    "1.CREATE: THIS COMMAND IS USED TO CREATE THE DATABASE OR ITS OBJECTS.\n",
    "2.DROP: THIS COMMAND IS USED TO DELETE OBJECTS FROM DATABASE.\n",
    "3.ALTER: THIS COMMAND IS USED TO ALTER THE STRUCTURE OF DATABASE.\n",
    "4.TRUNCATE: THIS COMMAND IS USED TO REMOVE ALL RECORDS FROM A TABLE."
   ]
  },
  {
   "cell_type": "markdown",
   "id": "7bb2810d-dbd6-46ff-8a04-ca599f4a3371",
   "metadata": {},
   "source": [
    "Q3. WHAT IS DML? EXPLAIN INSERT,UPDATE AND DELETE.\n",
    "\n",
    "DML IS DATA MAIPULATION LANGUAGE.IT CONTROLS THE ACCESS TO DATA AND TO THE DATABASE.\n",
    "LIST OF DML COMMANDS:\n",
    "\n",
    "1.INSERT: IT USED TO INSERT THE DATA INTO THE TABLE.\n",
    "2.UPDATE: IT IS USED TO UPDATE EXISTING DATA.\n",
    "3.DELETE: IT USED TO DELETE RECORDS FROM A TABLE."
   ]
  },
  {
   "cell_type": "markdown",
   "id": "a086ae5f-83f5-4028-a1a3-2dda9051ba97",
   "metadata": {},
   "source": [
    "Q4. WHAT IS DQL? HOW SELECT IS USED\n",
    "\n",
    "DQL IS USED FOR RETRIEVING DATA. A USER CAN RETREIVE DATA ACCORDING TO HIS/HER REQUIREMENTS USING THE SELECT COMMAND.\n",
    "IT CAN BE RETRIEVE AS:\n",
    "\n",
    "   SELECT* from employee;\n",
    "THE (*) MARK INDICATES THAT ALL THE ROWS ARE RETRIEVED FROM THE TABLE. \n",
    " "
   ]
  },
  {
   "cell_type": "markdown",
   "id": "f360d1f6-032d-4e57-b4b5-c8e9bfaf08a8",
   "metadata": {},
   "source": [
    "Q5. EXPLAIN PRIMARY KEY AND FOREIGN KEY.\n",
    "\n",
    "PRIMARY KEY FOCUSES ON THE UNIQUENESS OF THE TABLE.\n",
    "FORIEGN KEY IS USED TO BUILD A RELATIONSHIP BETWEEN THE TWO TABLES.IT ALLOWS ONLY ONE PRIMARY KEY."
   ]
  },
  {
   "cell_type": "markdown",
   "id": "1d020913-baf5-4b2b-bc5a-fd1cf5868ad0",
   "metadata": {},
   "source": [
    "Q6. WRITE A PYHTON CODE TO CONNECT MYSQL TO PYTHON.EXPAIN THE CURSOR() AND EXECUTE() METHOD."
   ]
  },
  {
   "cell_type": "code",
   "execution_count": null,
   "id": "c2e35b7b-3fa9-48a3-a56e-03a6a83b7b81",
   "metadata": {},
   "outputs": [],
   "source": [
    "#when we create data in table then cursor() is used to point it.like it will read out the data one by one.\n",
    "#execute() is used to get the output with the help of cursor. it is a command to that is used.\n",
    "\n",
    "a python code to connect mysql.\n",
    "\n",
    "'''import mysql.connector\n",
    "mydb = mysql.connector.connect(\n",
    "     host=\"localhost\",\n",
    "     user=\"abc\",\n",
    "     password=\"password\"\n",
    ")\n",
    "mycursor=mydb.cursor()\n",
    "mycursor.execute(\"some data\")\n",
    "mydb.close()\n",
    "\n"
   ]
  },
  {
   "cell_type": "code",
   "execution_count": null,
   "id": "506b64c7-b083-4708-a102-d3f61b6b711d",
   "metadata": {},
   "outputs": [],
   "source": []
  },
  {
   "cell_type": "code",
   "execution_count": null,
   "id": "35b23db4-1c7c-4d30-a011-df8e87c99f6c",
   "metadata": {},
   "outputs": [],
   "source": []
  }
 ],
 "metadata": {
  "kernelspec": {
   "display_name": "Python 3 (ipykernel)",
   "language": "python",
   "name": "python3"
  },
  "language_info": {
   "codemirror_mode": {
    "name": "ipython",
    "version": 3
   },
   "file_extension": ".py",
   "mimetype": "text/x-python",
   "name": "python",
   "nbconvert_exporter": "python",
   "pygments_lexer": "ipython3",
   "version": "3.10.8"
  }
 },
 "nbformat": 4,
 "nbformat_minor": 5
}
