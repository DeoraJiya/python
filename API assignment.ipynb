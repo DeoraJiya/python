{
 "cells": [
  {
   "cell_type": "markdown",
   "id": "8862de3a-cf4e-4f21-949a-0148a025796e",
   "metadata": {},
   "source": [
    "Q1. WHAT IS AN API? GIVE AN EXAMPLE WHERE AN API IS USED IN REAL LIFE?"
   ]
  },
  {
   "cell_type": "markdown",
   "id": "bce35d09-c945-4d1c-a28e-49dfa540e67e",
   "metadata": {},
   "source": [
    "AN API IS A SOURCE WHEREIN IT BUILDS THE COMMUNICATION BETWEEN TWO SYSTEMS,URLs,APPLICATIONS.\n",
    "EXAMPLES: WEBSITE ANALYTICS, PROJECT AND TEAM MANAGEMENT TOOLS, ONLINE PAYMENT SYSTEMS."
   ]
  },
  {
   "cell_type": "markdown",
   "id": "2af6ffce-551c-4961-ab03-d7fc92d4e149",
   "metadata": {},
   "source": [
    "Q2. GIVE ADVANTAGES AND DISADVANTAGES OF USING API."
   ]
  },
  {
   "cell_type": "markdown",
   "id": "e3d98fbf-6046-4ac3-879d-6092133e810b",
   "metadata": {},
   "source": [
    "BY USING API ONE CAN ACCESS OTHERS RESOURCE.IT ALSO PROVIDES GREAT FLEXIBILITY.\n",
    "AN API IS A GATEWAY, AND IT CAN BECOME A HACKERS PRIMARY TARGET."
   ]
  },
  {
   "cell_type": "markdown",
   "id": "3792c34e-81ff-4fe3-b742-0337dd2b8922",
   "metadata": {},
   "source": [
    "Q3. WHAT IS A WEB API? DIFFERENTIATE BETWEEN API AND WEB API."
   ]
  },
  {
   "cell_type": "markdown",
   "id": "17920636-45be-45fc-9c18-097172db4f53",
   "metadata": {},
   "source": [
    "WEB API IS AN APPLICATION PROGRAMMING INTERFACE FOR EITHER A WEB SERVER OR WEB BROWSER..IT IS AN INTERFACE FOR THE WEB.\n",
    "API IS AN INTERFACE THAT EXPOSES AN APPLICATIONS DATA TO THE OUTSIDE SOFTWARE,\n",
    "WHEREAS WEB APPLICATIONS ARE ONE TYPE OF API WITH STRICTER REQUIREMENTS."
   ]
  },
  {
   "cell_type": "markdown",
   "id": "9370915a-2b88-4226-9f1b-ae51daa18be4",
   "metadata": {},
   "source": [
    "Q4. EXPAIN REST AND SOAP ARCHITECTURE. MENTION SHORTCOMINGS OF SOAP."
   ]
  },
  {
   "cell_type": "markdown",
   "id": "65e2c5b6-3932-4dd6-b229-ba3c7ff8b753",
   "metadata": {},
   "source": [
    "SOAP AND REST ARE TWO DIFFERENT APPROACHES TO API DESIGN. THE SOAP APPROACH IS HIGHLY STRUCTURED AND USES XML DATA FORMAT. \n",
    "REST IS MORE FLEXIBLE AND ALLOWS APPLICATIONS TO EXCHANGE DATA IN MULTIPLE FORMARS."
   ]
  },
  {
   "cell_type": "markdown",
   "id": "adfbcb05-00bd-4fbc-854c-a9f527ee7882",
   "metadata": {},
   "source": [
    "Q5. DIFFERENTIATE BETWEEN REST AND SOAP."
   ]
  },
  {
   "cell_type": "markdown",
   "id": "db69d429-e8d5-4b6b-b40e-e2885a639296",
   "metadata": {},
   "source": [
    "SOAP USES ONLY XML FOR EXCHANGING INFORMATION IN ITS MESSAGE FORMAT WH"
   ]
  },
  {
   "cell_type": "code",
   "execution_count": null,
   "id": "613f7b6d-1d0e-48ca-a47f-36f13c59090a",
   "metadata": {},
   "outputs": [],
   "source": []
  },
  {
   "cell_type": "code",
   "execution_count": null,
   "id": "75781a62-3642-488b-8370-091867a933fb",
   "metadata": {},
   "outputs": [],
   "source": []
  },
  {
   "cell_type": "code",
   "execution_count": null,
   "id": "322f9fb2-8e6a-4aa4-b26c-da35dfcd3df7",
   "metadata": {},
   "outputs": [],
   "source": []
  },
  {
   "cell_type": "code",
   "execution_count": null,
   "id": "2bd42fca-4ede-4156-b72c-9324ef8fd606",
   "metadata": {},
   "outputs": [],
   "source": []
  }
 ],
 "metadata": {
  "kernelspec": {
   "display_name": "Python 3 (ipykernel)",
   "language": "python",
   "name": "python3"
  },
  "language_info": {
   "codemirror_mode": {
    "name": "ipython",
    "version": 3
   },
   "file_extension": ".py",
   "mimetype": "text/x-python",
   "name": "python",
   "nbconvert_exporter": "python",
   "pygments_lexer": "ipython3",
   "version": "3.10.8"
  }
 },
 "nbformat": 4,
 "nbformat_minor": 5
}
