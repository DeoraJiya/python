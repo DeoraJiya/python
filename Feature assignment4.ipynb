{
 "cells": [
  {
   "cell_type": "markdown",
   "id": "e616b9e7-7a87-4188-900d-b69719e62b8c",
   "metadata": {},
   "source": [
    "Q1. What is the difference between Ordinal Encoding and Label Encoding? Provide an example of when you\n",
    "might choose one over the other.\n",
    "\n",
    "Ordinal encoding should be used for ordinal variables where order matters like: cold, warm, hot.\n",
    "Label encoding should be used for non-ordinal aka (nominal variables) where order doesnt matter like: blonde, brunette.\n",
    "This encoding techinque appears almost similar to label encoding. But, label encoding would not comsider whether a variable is ordinal or not, but in case of ordinal encoding, it will assign a sequence of numerical values as per the order of data."
   ]
  },
  {
   "cell_type": "markdown",
   "id": "63c2fe66-c14b-4249-93d5-454de70bd91e",
   "metadata": {},
   "source": [
    "Q2. Explain how Target Guided Ordinal Encoding works and provide an example of when you might use it in\n",
    "a machine learning project.\n",
    "\n",
    "It is a technique used to encode categorical variables for machine learning models. \n",
    "This encoding is particularly useful when the target variable is ordinal, meaning that it has a natural order, such as low, medium, and high.\n",
    "it can be used in various machine learning tasks, such as regression, classification, and ranking problems."
   ]
  },
  {
   "cell_type": "markdown",
   "id": "b2b3b180-4599-4dd1-8e8c-c501ac80be2a",
   "metadata": {},
   "source": [
    "Q3. Define covariance and explain why it is important in statistical analysis. How is covariance calculated?\n",
    "\n",
    "Covariance is a measure of the relationship between two random variables and to what extent, they change together.\n",
    "Or we can say, in other words, it defines the changes between the two variables, such that change in one variable is equal to change in another variable.\n",
    "It greatly aid in understanding the relationship between two continuous variables."
   ]
  },
  {
   "cell_type": "markdown",
   "id": "583327e6-95a9-41a9-903c-571696ee781f",
   "metadata": {},
   "source": [
    "Q4. For a dataset with the following categorical variables: Color (red, green, blue), Size (small, medium,\n",
    "large), and Material (wood, metal, plastic), perform label encoding using Python's scikit-learn library.\n",
    "Show your code and explain the output."
   ]
  },
  {
   "cell_type": "code",
   "execution_count": null,
   "id": "a2a8b094-664a-4f52-ad46-94b51d2de90b",
   "metadata": {},
   "outputs": [],
   "source": [
    "import pandas as pd\n",
    "df = pd.DataFrame({\n",
    "'color':['red','green','blue'],\n",
    "'size':['small','medium','large'],\n",
    "'material':['wood','metal','plastic']\n",
    "})\n",
    "df"
   ]
  },
  {
   "cell_type": "code",
   "execution_count": 2,
   "id": "dc4b3825-ac37-41df-bf44-67997b53b494",
   "metadata": {},
   "outputs": [],
   "source": [
    "from sklearn.preprocessing import LabelEncoder"
   ]
  },
  {
   "cell_type": "code",
   "execution_count": 3,
   "id": "217bf953-9a95-468c-86e3-860de142619f",
   "metadata": {},
   "outputs": [
    {
     "data": {
      "text/html": [
       "<style>#sk-container-id-1 {color: black;background-color: white;}#sk-container-id-1 pre{padding: 0;}#sk-container-id-1 div.sk-toggleable {background-color: white;}#sk-container-id-1 label.sk-toggleable__label {cursor: pointer;display: block;width: 100%;margin-bottom: 0;padding: 0.3em;box-sizing: border-box;text-align: center;}#sk-container-id-1 label.sk-toggleable__label-arrow:before {content: \"▸\";float: left;margin-right: 0.25em;color: #696969;}#sk-container-id-1 label.sk-toggleable__label-arrow:hover:before {color: black;}#sk-container-id-1 div.sk-estimator:hover label.sk-toggleable__label-arrow:before {color: black;}#sk-container-id-1 div.sk-toggleable__content {max-height: 0;max-width: 0;overflow: hidden;text-align: left;background-color: #f0f8ff;}#sk-container-id-1 div.sk-toggleable__content pre {margin: 0.2em;color: black;border-radius: 0.25em;background-color: #f0f8ff;}#sk-container-id-1 input.sk-toggleable__control:checked~div.sk-toggleable__content {max-height: 200px;max-width: 100%;overflow: auto;}#sk-container-id-1 input.sk-toggleable__control:checked~label.sk-toggleable__label-arrow:before {content: \"▾\";}#sk-container-id-1 div.sk-estimator input.sk-toggleable__control:checked~label.sk-toggleable__label {background-color: #d4ebff;}#sk-container-id-1 div.sk-label input.sk-toggleable__control:checked~label.sk-toggleable__label {background-color: #d4ebff;}#sk-container-id-1 input.sk-hidden--visually {border: 0;clip: rect(1px 1px 1px 1px);clip: rect(1px, 1px, 1px, 1px);height: 1px;margin: -1px;overflow: hidden;padding: 0;position: absolute;width: 1px;}#sk-container-id-1 div.sk-estimator {font-family: monospace;background-color: #f0f8ff;border: 1px dotted black;border-radius: 0.25em;box-sizing: border-box;margin-bottom: 0.5em;}#sk-container-id-1 div.sk-estimator:hover {background-color: #d4ebff;}#sk-container-id-1 div.sk-parallel-item::after {content: \"\";width: 100%;border-bottom: 1px solid gray;flex-grow: 1;}#sk-container-id-1 div.sk-label:hover label.sk-toggleable__label {background-color: #d4ebff;}#sk-container-id-1 div.sk-serial::before {content: \"\";position: absolute;border-left: 1px solid gray;box-sizing: border-box;top: 0;bottom: 0;left: 50%;z-index: 0;}#sk-container-id-1 div.sk-serial {display: flex;flex-direction: column;align-items: center;background-color: white;padding-right: 0.2em;padding-left: 0.2em;position: relative;}#sk-container-id-1 div.sk-item {position: relative;z-index: 1;}#sk-container-id-1 div.sk-parallel {display: flex;align-items: stretch;justify-content: center;background-color: white;position: relative;}#sk-container-id-1 div.sk-item::before, #sk-container-id-1 div.sk-parallel-item::before {content: \"\";position: absolute;border-left: 1px solid gray;box-sizing: border-box;top: 0;bottom: 0;left: 50%;z-index: -1;}#sk-container-id-1 div.sk-parallel-item {display: flex;flex-direction: column;z-index: 1;position: relative;background-color: white;}#sk-container-id-1 div.sk-parallel-item:first-child::after {align-self: flex-end;width: 50%;}#sk-container-id-1 div.sk-parallel-item:last-child::after {align-self: flex-start;width: 50%;}#sk-container-id-1 div.sk-parallel-item:only-child::after {width: 0;}#sk-container-id-1 div.sk-dashed-wrapped {border: 1px dashed gray;margin: 0 0.4em 0.5em 0.4em;box-sizing: border-box;padding-bottom: 0.4em;background-color: white;}#sk-container-id-1 div.sk-label label {font-family: monospace;font-weight: bold;display: inline-block;line-height: 1.2em;}#sk-container-id-1 div.sk-label-container {text-align: center;}#sk-container-id-1 div.sk-container {/* jupyter's `normalize.less` sets `[hidden] { display: none; }` but bootstrap.min.css set `[hidden] { display: none !important; }` so we also need the `!important` here to be able to override the default hidden behavior on the sphinx rendered scikit-learn.org. See: https://github.com/scikit-learn/scikit-learn/issues/21755 */display: inline-block !important;position: relative;}#sk-container-id-1 div.sk-text-repr-fallback {display: none;}</style><div id=\"sk-container-id-1\" class=\"sk-top-container\"><div class=\"sk-text-repr-fallback\"><pre>LabelEncoder()</pre><b>In a Jupyter environment, please rerun this cell to show the HTML representation or trust the notebook. <br />On GitHub, the HTML representation is unable to render, please try loading this page with nbviewer.org.</b></div><div class=\"sk-container\" hidden><div class=\"sk-item\"><div class=\"sk-estimator sk-toggleable\"><input class=\"sk-toggleable__control sk-hidden--visually\" id=\"sk-estimator-id-1\" type=\"checkbox\" checked><label for=\"sk-estimator-id-1\" class=\"sk-toggleable__label sk-toggleable__label-arrow\">LabelEncoder</label><div class=\"sk-toggleable__content\"><pre>LabelEncoder()</pre></div></div></div></div></div>"
      ],
      "text/plain": [
       "LabelEncoder()"
      ]
     },
     "execution_count": 3,
     "metadata": {},
     "output_type": "execute_result"
    }
   ],
   "source": [
    "encoder = LabelEncoder()\n",
    "encoder.fit(df['color'])"
   ]
  },
  {
   "cell_type": "code",
   "execution_count": 13,
   "id": "7364e828-6f1f-4413-91d0-fd87a64d842c",
   "metadata": {},
   "outputs": [
    {
     "data": {
      "text/html": [
       "<div>\n",
       "<style scoped>\n",
       "    .dataframe tbody tr th:only-of-type {\n",
       "        vertical-align: middle;\n",
       "    }\n",
       "\n",
       "    .dataframe tbody tr th {\n",
       "        vertical-align: top;\n",
       "    }\n",
       "\n",
       "    .dataframe thead th {\n",
       "        text-align: right;\n",
       "    }\n",
       "</style>\n",
       "<table border=\"1\" class=\"dataframe\">\n",
       "  <thead>\n",
       "    <tr style=\"text-align: right;\">\n",
       "      <th></th>\n",
       "      <th>0</th>\n",
       "    </tr>\n",
       "  </thead>\n",
       "  <tbody>\n",
       "    <tr>\n",
       "      <th>0</th>\n",
       "      <td>2</td>\n",
       "    </tr>\n",
       "    <tr>\n",
       "      <th>1</th>\n",
       "      <td>0</td>\n",
       "    </tr>\n",
       "    <tr>\n",
       "      <th>2</th>\n",
       "      <td>1</td>\n",
       "    </tr>\n",
       "  </tbody>\n",
       "</table>\n",
       "</div>"
      ],
      "text/plain": [
       "   0\n",
       "0  2\n",
       "1  0\n",
       "2  1"
      ]
     },
     "execution_count": 13,
     "metadata": {},
     "output_type": "execute_result"
    }
   ],
   "source": [
    "pd.DataFrame(encoder.fit_transform(df['material']))"
   ]
  },
  {
   "cell_type": "markdown",
   "id": "68f14816-c2c2-4130-9ccd-364ea09d26bb",
   "metadata": {},
   "source": [
    "Q5. Calculate the covariance matrix for the following variables in a dataset: Age, Income, and Education\n",
    "level. Interpret the results."
   ]
  },
  {
   "cell_type": "code",
   "execution_count": 47,
   "id": "c000ddce-a9aa-4885-811c-e44dd67e1e07",
   "metadata": {},
   "outputs": [
    {
     "data": {
      "text/plain": [
       "array([[8.56666667e+01, 1.35166667e+05],\n",
       "       [1.35166667e+05, 2.14916667e+08]])"
      ]
     },
     "execution_count": 47,
     "metadata": {},
     "output_type": "execute_result"
    }
   ],
   "source": [
    "import numpy as np\n",
    "AGE = [25,26,30,45]\n",
    "INCOME = [35000,36000,40000,66000]\n",
    "\n",
    "x = np.array([AGE,INCOME])\n",
    "np.cov(x)"
   ]
  },
  {
   "cell_type": "markdown",
   "id": "f899d97a-5a0b-40a0-8614-0363a31dcc6f",
   "metadata": {},
   "source": [
    "Q6. You are working on a machine learning project with a dataset containing several categorical\n",
    "variables, including \"Gender\" (Male/Female), \"Education Level\" (High School/Bachelor's/Master's/PhD),\n",
    "and \"Employment Status\" (Unemployed/Part-Time/Full-Time). Which encoding method would you use for\n",
    "each variable, and why?\n",
    "\n",
    "For gender, we will use onehot encoding because the categorical parameters will prepare seperate columns for both male and female.\n",
    "So, wherever there is a male, the value will be 1 and female 0.\n",
    "\n",
    "For education, we will use label encoding because ranks are provided based on the importance of category.\n",
    "It illustrates, that phd is considered to be the highest rank in all of them so it will be povided with rank 1st.\n",
    "\n",
    "For employment status, we will use label encoding method."
   ]
  },
  {
   "cell_type": "markdown",
   "id": "524fcf8a-d74e-4794-a3e7-dea3a3b6b3a8",
   "metadata": {},
   "source": [
    "Q7. You are analyzing a dataset with two continuous variables, \"Temperature\" and \"Humidity\", and two\n",
    "categorical variables, \"Weather Condition\" (Sunny/Cloudy/Rainy) and \"Wind Direction\" (North/South/\n",
    "East/West). Calculate the covariance between each pair of variables and interpret the results."
   ]
  },
  {
   "cell_type": "code",
   "execution_count": 49,
   "id": "c87f2ca0-00af-4a3f-aa29-6c0f63e8b3b6",
   "metadata": {},
   "outputs": [
    {
     "data": {
      "text/plain": [
       "array([[9.12343828e+09, 1.45064499e+13],\n",
       "       [1.45064499e+13, 2.30655464e+16]])"
      ]
     },
     "execution_count": 49,
     "metadata": {},
     "output_type": "execute_result"
    }
   ],
   "source": [
    "import numpy as np\n",
    "temperature = np.array([100,-25,56,-24])\n",
    "humidity = np.array([45,78,34,100])\n",
    "x = np.cov(x)\n",
    "print(x)\n",
    "\n",
    "weather_condition = np.array([sunny, cloudy, rainy])\n",
    "wind_direction = np.array([north,south])\n"
   ]
  }
 ],
 "metadata": {
  "kernelspec": {
   "display_name": "Python 3 (ipykernel)",
   "language": "python",
   "name": "python3"
  },
  "language_info": {
   "codemirror_mode": {
    "name": "ipython",
    "version": 3
   },
   "file_extension": ".py",
   "mimetype": "text/x-python",
   "name": "python",
   "nbconvert_exporter": "python",
   "pygments_lexer": "ipython3",
   "version": "3.10.8"
  }
 },
 "nbformat": 4,
 "nbformat_minor": 5
}
