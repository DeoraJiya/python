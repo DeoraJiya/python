{
 "cells": [
  {
   "cell_type": "markdown",
   "id": "203f3885-4f0f-4c4a-ad9c-8f3fa4234af6",
   "metadata": {},
   "source": [
    "Q1. CREATE ONE VARIABLE CONTAINING FOLLOWING TYPE OF DATA:\n",
    "    1. STRING\n",
    "    2. LIST\n",
    "    3. FLOAT\n",
    "    4. TUPLE"
   ]
  },
  {
   "cell_type": "code",
   "execution_count": 2,
   "id": "242c0c31-9dee-4d27-b6a6-4650e9c84a72",
   "metadata": {},
   "outputs": [],
   "source": [
    "a_str = \"hello everyone\"\n",
    "b_list = [1,2,3,'sakshi','jyoti']\n",
    "c_float = 56.78\n",
    "d_tuple = (1,2,3,4,5)\n"
   ]
  },
  {
   "cell_type": "code",
   "execution_count": 4,
   "id": "e2de7b53-39a0-4fab-8e73-98afd1ffc1b9",
   "metadata": {},
   "outputs": [
    {
     "name": "stdout",
     "output_type": "stream",
     "text": [
      "<class 'str'>\n",
      "<class 'list'>\n",
      "<class 'float'>\n",
      "<class 'tuple'>\n"
     ]
    }
   ],
   "source": [
    "print (type(a_str))\n",
    "print (type(b_list))\n",
    "print (type(c_float))\n",
    "print (type(d_tuple))"
   ]
  },
  {
   "cell_type": "code",
   "execution_count": null,
   "id": "91b6e07b-0c01-4678-8ca0-c6769a727d14",
   "metadata": {},
   "outputs": [],
   "source": [
    "Q2. GIVEN ARE SOME FOLLOWING VARIABLES CONTAINING DATA:\n",
    "    1. var1 = 'undefined'\n",
    "    2. var2 = '[DS, ML, PYTHON]'\n",
    "    3. var3 = ['DS','ML','PYTHON']\n",
    "    4. var4 = 1.\n",
    "    \n",
    "WHAT WILL BE THE DATA TYPE OF THE ABOVE GIVEN VARIABLE."
   ]
  },
  {
   "cell_type": "code",
   "execution_count": 22,
   "id": "bf01f26d-25d4-42b1-bbb9-4d562ce86e86",
   "metadata": {},
   "outputs": [
    {
     "ename": "NameError",
     "evalue": "name 'var1' is not defined",
     "output_type": "error",
     "traceback": [
      "\u001b[0;31m---------------------------------------------------------------------------\u001b[0m",
      "\u001b[0;31mNameError\u001b[0m                                 Traceback (most recent call last)",
      "Cell \u001b[0;32mIn[22], line 1\u001b[0m\n\u001b[0;32m----> 1\u001b[0m \u001b[38;5;28mtype\u001b[39m(\u001b[43mvar1\u001b[49m)\n\u001b[1;32m      2\u001b[0m \u001b[38;5;28mtype\u001b[39m(var2)\n\u001b[1;32m      3\u001b[0m \u001b[38;5;28mtype\u001b[39m(var3)\n",
      "\u001b[0;31mNameError\u001b[0m: name 'var1' is not defined"
     ]
    }
   ],
   "source": [
    "type(var1)\n",
    "type(var2)\n",
    "type(var3)\n",
    "type(var4)\n"
   ]
  },
  {
   "cell_type": "markdown",
   "id": "7605d762-5a8f-42ff-988f-7b6d1e888e42",
   "metadata": {},
   "source": [
    "Q3. EXPLAIN THE USE OF THE FOLLOWING OPERATORS USING AN EXAMPLE:\n",
    "    1. /\n",
    "    2. %\n",
    "    3. //\n",
    "    4. **\n",
    "    "
   ]
  },
  {
   "cell_type": "code",
   "execution_count": 6,
   "id": "ee6eb981-e160-4f34-8ada-5b97d1ffa877",
   "metadata": {},
   "outputs": [
    {
     "data": {
      "text/plain": [
       "1.25"
      ]
     },
     "execution_count": 6,
     "metadata": {},
     "output_type": "execute_result"
    }
   ],
   "source": [
    "5/4\n",
    "#IT IS USED FOR DIVISION"
   ]
  },
  {
   "cell_type": "code",
   "execution_count": 7,
   "id": "e4c2aac4-e54c-40f2-b80c-3dd854d57686",
   "metadata": {},
   "outputs": [
    {
     "data": {
      "text/plain": [
       "2"
      ]
     },
     "execution_count": 7,
     "metadata": {},
     "output_type": "execute_result"
    }
   ],
   "source": [
    "2%4\n",
    "#IT IS A MODULE THAT GIVES THE REMAINDER"
   ]
  },
  {
   "cell_type": "code",
   "execution_count": 8,
   "id": "4ab047ed-44a7-4b97-94f9-184c913eb626",
   "metadata": {},
   "outputs": [
    {
     "data": {
      "text/plain": [
       "1"
      ]
     },
     "execution_count": 8,
     "metadata": {},
     "output_type": "execute_result"
    }
   ],
   "source": [
    "6//4\n",
    "#IT IS KNOWN AS FLOOR DIVISION THAT REMOVES THE DECIMALS"
   ]
  },
  {
   "cell_type": "code",
   "execution_count": 9,
   "id": "3c6051d6-ede6-4281-b95d-7f0e5495d820",
   "metadata": {},
   "outputs": [
    {
     "data": {
      "text/plain": [
       "15625"
      ]
     },
     "execution_count": 9,
     "metadata": {},
     "output_type": "execute_result"
    }
   ],
   "source": [
    "5**6\n",
    "#IT IS USED FOR SQUARE ROOT"
   ]
  },
  {
   "cell_type": "markdown",
   "id": "ab736555-f9c3-4abf-aea4-b1c8c0332c29",
   "metadata": {},
   "source": [
    "Q4. CREATE A LIST  OF LENGTH 10 OF YOUR CHOICE CONTAINING MULTIPLE TYPES OF DATA.USING FOR LOOP PRINT THE ELEMENT AND ITS DATA TYPE."
   ]
  },
  {
   "cell_type": "code",
   "execution_count": 3,
   "id": "c8d63301-5fdc-446d-b000-3341c3259378",
   "metadata": {},
   "outputs": [
    {
     "name": "stdout",
     "output_type": "stream",
     "text": [
      "1\n",
      "the datatype is:\n",
      "<class 'int'>\n",
      "7.89\n",
      "the datatype is:\n",
      "<class 'float'>\n",
      "0\n",
      "the datatype is:\n",
      "<class 'int'>\n",
      "False\n",
      "the datatype is:\n",
      "<class 'bool'>\n",
      "(4+6j)\n",
      "the datatype is:\n",
      "<class 'complex'>\n",
      "Cream\n",
      "the datatype is:\n",
      "<class 'str'>\n",
      "MIT university\n",
      "the datatype is:\n",
      "<class 'str'>\n",
      "5.6\n",
      "the datatype is:\n",
      "<class 'float'>\n",
      "78\n",
      "the datatype is:\n",
      "<class 'int'>\n",
      "-43\n",
      "the datatype is:\n",
      "<class 'int'>\n"
     ]
    }
   ],
   "source": [
    "list = (1, 7.89, 0, False, 4+6j, \"Cream\", \"MIT university\", 5.6, 78, -43);\n",
    "for x in list:\n",
    "    print(x)\n",
    "    print(\"the datatype is:\")\n",
    "    print(type(x))\n",
    "    \n",
    "    \n"
   ]
  },
  {
   "cell_type": "markdown",
   "id": "900466ac-c407-4484-b3f8-47683962e86c",
   "metadata": {},
   "source": [
    "Q5.USING A WHILE LOOP , VERIFY IF THE NUMBER A IS PURELY DIVISIBLE BY NUMBER B AND IF SO THEN HOW MANY TIMES IT CAN BE DIVISIBLE."
   ]
  },
  {
   "cell_type": "code",
   "execution_count": 14,
   "id": "8847cbe1-37f1-40c3-ae54-9c79978840cd",
   "metadata": {},
   "outputs": [
    {
     "name": "stdin",
     "output_type": "stream",
     "text": [
      "enter the dividend: 60\n",
      "enter the divisor: 10\n"
     ]
    },
    {
     "name": "stdout",
     "output_type": "stream",
     "text": [
      "A is divisible by B 3 time\n"
     ]
    }
   ],
   "source": [
    "A = int(input('enter the dividend:'))\n",
    "B = int(input('enter the divisor:'))\n",
    "count = 2\n",
    "while(A%B == 0):\n",
    "    A = A/B\n",
    "    count += 1\n",
    "if count>0:\n",
    "    print(\"A is divisible by B\",count,\"time\")\n",
    "else:\n",
    "    print(\"A is not divisible by B\")\n",
    "    \n",
    "    \n",
    "    \n",
    "    \n",
    "    \n",
    "          \n",
    "          \n",
    "        "
   ]
  },
  {
   "cell_type": "markdown",
   "id": "47cabcbd-a4d8-42e4-9bd4-155637593e3c",
   "metadata": {},
   "source": [
    "Q6. CREATE A LIST CONTAINING 25 INT TYPE DATA.USING FOR LOOP AND IF ELSE CONDITION PRINT IF THE ELEMENT IS DIVISIBLE BY 3 OR NOT."
   ]
  },
  {
   "cell_type": "code",
   "execution_count": 10,
   "id": "2183630e-6267-4626-9365-a94f62ef50ca",
   "metadata": {},
   "outputs": [
    {
     "name": "stdout",
     "output_type": "stream",
     "text": [
      "9 is divisible by 3\n",
      "12 is divisible by 3\n",
      "25 is not divisible by 3\n",
      "67 is not divisible by 3\n",
      "56 is not divisible by 3\n",
      "45 is divisible by 3\n",
      "78 is divisible by 3\n",
      "90 is divisible by 3\n",
      "27 is divisible by 3\n",
      "56 is not divisible by 3\n",
      "36 is divisible by 3\n",
      "40 is not divisible by 3\n",
      "88 is not divisible by 3\n",
      "67 is not divisible by 3\n",
      "22 is not divisible by 3\n",
      "33 is divisible by 3\n",
      "100 is not divisible by 3\n",
      "54 is divisible by 3\n",
      "43 is not divisible by 3\n",
      "21 is divisible by 3\n",
      "55 is not divisible by 3\n",
      "70 is not divisible by 3\n",
      "66 is divisible by 3\n",
      "16 is not divisible by 3\n",
      "13 is not divisible by 3\n"
     ]
    }
   ],
   "source": [
    "num_list = (9,12,25,67,56,45,78,90,27,56,36,40,88,67,22,33,100,54,43,21,55,70,66,16,13)\n",
    "for x in num_list:\n",
    "    if(x%3==0):\n",
    "        print(f\"{x} is divisible by 3\")\n",
    "    else:\n",
    "        print(f\"{x} is not divisible by 3\")\n",
    "        \n",
    "    \n",
    "        \n",
    "        \n",
    "        \n",
    "        \n",
    "        \n",
    "    \n"
   ]
  },
  {
   "cell_type": "markdown",
   "id": "8f744727-1332-4fea-a75a-4b8424606ae4",
   "metadata": {},
   "source": [
    "Q7. WHAT DO YOU UNDERSTAND ABOUT MUTUABLE AND IMMMUTABLE DATA TYPE? GIVE EXAMPLES FOR BOTH SHOWING THIS PROPERTY."
   ]
  },
  {
   "cell_type": "code",
   "execution_count": 16,
   "id": "808789e2-a1c2-4097-a0b8-cf19cc17bb2f",
   "metadata": {},
   "outputs": [
    {
     "name": "stdout",
     "output_type": "stream",
     "text": [
      "['Joseph', 'Aadhya', 'Bhavesh', 'Kinjal', 'Kashish']\n",
      "['Joseph', 'Aadhya', 'Ananya', 'Kinjal', 'Kashish']\n"
     ]
    }
   ],
   "source": [
    "#MUTABILITY\n",
    "Student_name = [\"Joseph\",\"Aadhya\",\"Bhavesh\",\"Kinjal\",\"Kashish\"]\n",
    "print(Student_name)\n",
    "Student_name[2] = \"Ananya\"\n",
    "print(Student_name)"
   ]
  },
  {
   "cell_type": "code",
   "execution_count": 17,
   "id": "d9dbabb2-2be5-4f56-8fe3-732e601c4baf",
   "metadata": {},
   "outputs": [
    {
     "ename": "NameError",
     "evalue": "name 'o' is not defined",
     "output_type": "error",
     "traceback": [
      "\u001b[0;31m---------------------------------------------------------------------------\u001b[0m",
      "\u001b[0;31mNameError\u001b[0m                                 Traceback (most recent call last)",
      "Cell \u001b[0;32mIn[17], line 2\u001b[0m\n\u001b[1;32m      1\u001b[0m j \u001b[38;5;241m=\u001b[39m \u001b[38;5;124m\"\u001b[39m\u001b[38;5;124mKrishna\u001b[39m\u001b[38;5;124m\"\u001b[39m\n\u001b[0;32m----> 2\u001b[0m j[\u001b[38;5;241m0\u001b[39m]\u001b[38;5;241m=\u001b[39m \u001b[43mo\u001b[49m\n",
      "\u001b[0;31mNameError\u001b[0m: name 'o' is not defined"
     ]
    }
   ],
   "source": [
    "j = \"Krishna\"\n",
    "j[0]= o\n"
   ]
  }
 ],
 "metadata": {
  "kernelspec": {
   "display_name": "Python 3 (ipykernel)",
   "language": "python",
   "name": "python3"
  },
  "language_info": {
   "codemirror_mode": {
    "name": "ipython",
    "version": 3
   },
   "file_extension": ".py",
   "mimetype": "text/x-python",
   "name": "python",
   "nbconvert_exporter": "python",
   "pygments_lexer": "ipython3",
   "version": "3.10.8"
  }
 },
 "nbformat": 4,
 "nbformat_minor": 5
}
