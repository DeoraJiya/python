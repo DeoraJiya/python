{
 "cells": [
  {
   "cell_type": "markdown",
   "id": "e3e6c0db-01c4-48b2-9d42-f5e45cc31ba0",
   "metadata": {},
   "source": [
    "Q1: What are the Probability Mass Function (PMF) and Probability Density Function (PDF)? Explain with\n",
    "an example.\n",
    "\n",
    "Probability mass function denotes the discrete random variable whereas Probability density function denotes continuous random variables.it is equivalent.\n",
    "eg:height of student in classroom(pdf) \n",
    "eg:rolling a dice(pmf)"
   ]
  },
  {
   "cell_type": "markdown",
   "id": "9068fd00-a037-4cb1-b823-e0b36f628fb9",
   "metadata": {},
   "source": [
    "Q2: What is Cumulative Density Function (CDF)? Explain with an example. Why CDF is used?\n",
    "\n",
    "Cumulative density function is in a form of \"S\" shaped. Cumulative distribution means the continuous process with adding up.\n",
    "CDF is used to identify random variable to determine whether \"x\" is less than or equal to  "
   ]
  },
  {
   "cell_type": "markdown",
   "id": "b8b12310-10a0-4a73-942a-13f01a945a4f",
   "metadata": {},
   "source": [
    "Q3: What are some examples of situations where the normal distribution might be used as a model?\n",
    "Explain how the parameters of the normal distribution relate to the shape of the distribution.\n",
    "\n",
    "The best example where normal disrtibution might be used is: Height, Weight, Scores and many more.\n",
    "Because normally distributed variables are so common that many statistical tests are designed for normally distributed populations.\n",
    "The two main parameters of normal distribution are mean and standard deviation.The shape of the distribution changes as the parameter values change."
   ]
  },
  {
   "cell_type": "markdown",
   "id": "51ed5655-6c54-422d-ad4e-023b3d397ea9",
   "metadata": {},
   "source": [
    "Q4: Explain the importance of Normal Distribution. Give a few real-life examples of Normal\n",
    "Distribution.\n",
    "\n",
    "The best example where normal disrtibution might be used is: Height, Weight, Scores and many more. Because normally distributed variables are so common that many statistical tests are designed for normally distributed populations."
   ]
  },
  {
   "cell_type": "markdown",
   "id": "c7fbc425-c120-4800-881b-f545fcd5e571",
   "metadata": {},
   "source": [
    "Q5: What is Bernaulli Distribution? Give an Example. What is the difference between Bernoulli\n",
    "Distribution and Binomial Distribution?\n",
    "\n",
    "A bernoulli distribution is a type of binomial distribution.\n",
    "eg: suppose there is an experiment where you flip a coin that is fair. if the outcome of the flip is heads then you will win.\n",
    "The bernoulli distribution represents the success or failure of a single bernoulli trial.\n",
    "The binomial distribution represents the number of successess and failures in n independent bernoulli trials for some given value of n."
   ]
  },
  {
   "cell_type": "markdown",
   "id": "f672aae2-6c87-45a2-8150-a1b9b2739552",
   "metadata": {},
   "source": [
    "Q6. Consider a dataset with a mean of 50 and a standard deviation of 10. If we assume that the dataset\n",
    "is normally distributed, what is the probability that a randomly selected observation will be greater\n",
    "than 60? Use the appropriate formula and show your calculations.\n",
    "\n"
   ]
  },
  {
   "cell_type": "markdown",
   "id": "a3a079ba-d6f4-471b-8825-82ec5085cedb",
   "metadata": {},
   "source": [
    "Q7: Explain uniform Distribution with an example.\n",
    "\n",
    "In stats, uniform distribution refers to a type of probability distribution in which all outcomes are equally likely.\n",
    "It can be said as all the outcomes of probabilities are same.\n",
    "eg: dice, a deck of cards."
   ]
  },
  {
   "cell_type": "markdown",
   "id": "1cf88273-fbdb-49e8-8fd7-4757221214a7",
   "metadata": {},
   "source": [
    "Q8: What is the z score? State the importance of the z score.\n",
    "\n",
    "Zscore is used when we want to convert normal distribution into standard normal distribution.\n",
    "The zscore is important because it tells where your data lies in data distribution.\n",
    "Lets understand by an example: if a zscore is 1.5, it is 1.5 standard deviations away from the mean."
   ]
  },
  {
   "cell_type": "markdown",
   "id": "9e6072e1-2a10-4f47-9df3-20ab0a044fdf",
   "metadata": {},
   "source": [
    "Q9: What is Central Limit Theorem? State the significance of the Central Limit Theorem.\n",
    "\n",
    "The central limit theorem says that the sampling distribution of the mean will always be normally distributed , as long as the sample size is large enough.Regardless of whether the population has any other population distribution."
   ]
  },
  {
   "cell_type": "markdown",
   "id": "d0ae066c-43a9-4102-906b-581ae6611564",
   "metadata": {},
   "source": [
    "Q10: State the assumptions of the Central Limit Theorem.\n",
    "\n"
   ]
  }
 ],
 "metadata": {
  "kernelspec": {
   "display_name": "Python 3 (ipykernel)",
   "language": "python",
   "name": "python3"
  },
  "language_info": {
   "codemirror_mode": {
    "name": "ipython",
    "version": 3
   },
   "file_extension": ".py",
   "mimetype": "text/x-python",
   "name": "python",
   "nbconvert_exporter": "python",
   "pygments_lexer": "ipython3",
   "version": "3.10.8"
  }
 },
 "nbformat": 4,
 "nbformat_minor": 5
}
