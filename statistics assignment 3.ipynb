{
 "cells": [
  {
   "cell_type": "markdown",
   "id": "a75b3fb4-3bbb-4ad7-a2b9-9a0b50d1d817",
   "metadata": {},
   "source": [
    "Q1. What is the Probability density function?"
   ]
  },
  {
   "cell_type": "markdown",
   "id": "157bed04-367b-47c4-b7fc-216bf67cdb1d",
   "metadata": {},
   "source": [
    "It is used to define the random variables probability coming within a distinct range of values."
   ]
  },
  {
   "cell_type": "markdown",
   "id": "3159874a-6c83-4468-95b2-5f3db2459662",
   "metadata": {},
   "source": [
    "Q2. What are the types of Probability distribution?\n",
    "\n",
    "1.Probability density function.\n",
    "2.Cumulative density function.\n",
    "3.Probability mass function."
   ]
  },
  {
   "cell_type": "markdown",
   "id": "ec81a8da-c248-4cbd-a3dc-4525bcfb7055",
   "metadata": {},
   "source": [
    "Q3. Write a Python function to calculate the probability density function of a normal distribution with\n",
    "given mean and standard deviation at a given point."
   ]
  },
  {
   "cell_type": "code",
   "execution_count": 3,
   "id": "7ecd0191-7b8d-40a3-848b-547d969dd4a5",
   "metadata": {},
   "outputs": [
    {
     "data": {
      "text/plain": [
       "0.0804410163156249"
      ]
     },
     "execution_count": 3,
     "metadata": {},
     "output_type": "execute_result"
    }
   ],
   "source": [
    "from scipy.stats import norm\n",
    "import numpy as np\n",
    "data_start = -5\n",
    "data_end = 5\n",
    "data_points = 11\n",
    "data = np.linspace(data_start,data_end,data_points)\n",
    "mean = np.mean(data)\n",
    "std = np.std(data)\n",
    "\n",
    "probability_pdf = norm.pdf(3,loc=mean,scale=std)\n",
    "probability_pdf\n",
    "\n"
   ]
  },
  {
   "cell_type": "code",
   "execution_count": 13,
   "id": "04c258ee-067b-490f-9bd5-24df477ef7f7",
   "metadata": {},
   "outputs": [
    {
     "data": {
      "text/plain": [
       "0.07866959603006582"
      ]
     },
     "execution_count": 13,
     "metadata": {},
     "output_type": "execute_result"
    }
   ],
   "source": [
    "from scipy.stats import norm\n",
    "import numpy as np\n",
    "data = np.linspace(-4,4,9)\n",
    "mean = np.mean(data)\n",
    "std = np.std(data)\n",
    "probability_pdf = norm.pdf(3,loc=mean,scale=std)\n",
    "probability_pdf\n"
   ]
  },
  {
   "cell_type": "markdown",
   "id": "cdf3a78e-c2e2-4ba0-8562-36be2f1fdd91",
   "metadata": {},
   "source": [
    "Q4. What are the properties of Binomial distribution? Give two examples of events where binomial\n",
    "distribution can be applied.\n",
    "\n",
    "Binomial Distribution is applicable when the trials are independent and each trial has just two outcomes i.e. success and failure.\n",
    "\n",
    "eg: coin tossing and rollind a dice would be considered a good example for binomial distribution."
   ]
  },
  {
   "cell_type": "markdown",
   "id": "77a4229c-e3f3-4267-827a-26fe36e61e0c",
   "metadata": {},
   "source": [
    "Q5. Generate a random sample of size 1000 from a binomial distribution with probability of success 0.4\n",
    "and plot a histogram of the results using matplotlib."
   ]
  },
  {
   "cell_type": "code",
   "execution_count": 12,
   "id": "8d288b41-59c6-442b-b53a-d3186e8b1248",
   "metadata": {},
   "outputs": [
    {
     "ename": "ImportError",
     "evalue": "cannot import name 'bino' from 'scipy.stats' (/opt/conda/lib/python3.10/site-packages/scipy/stats/__init__.py)",
     "output_type": "error",
     "traceback": [
      "\u001b[0;31m---------------------------------------------------------------------------\u001b[0m",
      "\u001b[0;31mImportError\u001b[0m                               Traceback (most recent call last)",
      "Cell \u001b[0;32mIn[12], line 1\u001b[0m\n\u001b[0;32m----> 1\u001b[0m \u001b[38;5;28;01mfrom\u001b[39;00m \u001b[38;5;21;01mscipy\u001b[39;00m\u001b[38;5;21;01m.\u001b[39;00m\u001b[38;5;21;01mstats\u001b[39;00m \u001b[38;5;28;01mimport\u001b[39;00m bino\n\u001b[1;32m      2\u001b[0m \u001b[38;5;28;01mimport\u001b[39;00m \u001b[38;5;21;01mnumpy\u001b[39;00m \u001b[38;5;28;01mas\u001b[39;00m \u001b[38;5;21;01mnp\u001b[39;00m\n\u001b[1;32m      3\u001b[0m \u001b[38;5;28;01mfrom\u001b[39;00m \u001b[38;5;21;01mnumpy\u001b[39;00m \u001b[38;5;28;01mimport\u001b[39;00m random\n",
      "\u001b[0;31mImportError\u001b[0m: cannot import name 'bino' from 'scipy.stats' (/opt/conda/lib/python3.10/site-packages/scipy/stats/__init__.py)"
     ]
    }
   ],
   "source": [
    "from scipy.stats import bino\n",
    "import numpy as np\n",
    "from numpy import random\n",
    "data = np.random.binomial(1000)\n",
    "mean = np.mean(data)\n",
    "var = np.var(data)\n",
    "probability_cdf = bino.pdf(3,mu=mean)\n",
    "probability_cdf\n"
   ]
  },
  {
   "cell_type": "markdown",
   "id": "2335e676-fe91-4d8e-83a3-6761655fbf50",
   "metadata": {},
   "source": [
    "Q6. Write a Python function to calculate the cumulative distribution function of a Poisson distribution\n",
    "with given mean at a given point."
   ]
  },
  {
   "cell_type": "code",
   "execution_count": 9,
   "id": "87de0c9a-46f5-4012-a3a1-62c4153ac9f2",
   "metadata": {},
   "outputs": [
    {
     "data": {
      "text/plain": [
       "5.6492912511341525e-36"
      ]
     },
     "execution_count": 9,
     "metadata": {},
     "output_type": "execute_result"
    }
   ],
   "source": [
    "from scipy.stats import poisson\n",
    "import numpy as np\n",
    "from numpy import random \n",
    "data = np.random.poisson(100)\n",
    "mean = np.mean(data)\n",
    "var = np.var(data)\n",
    "probability_cdf = poisson.cdf(3,mu=mean)\n",
    "probability_cdf"
   ]
  },
  {
   "cell_type": "markdown",
   "id": "418c4f35-d4f9-4a9c-bae5-2088ede25a5b",
   "metadata": {},
   "source": [
    "Q7. How Binomial distribution different from Poisson distribution?"
   ]
  },
  {
   "cell_type": "markdown",
   "id": "29c16b7f-cbd9-4711-b8f6-18df8b43829b",
   "metadata": {},
   "source": [
    "Binomial distribution is the one in which the outcomes are only two,whereas in poisson distribution the outcomes has no limits."
   ]
  },
  {
   "cell_type": "markdown",
   "id": "68a985b8-1161-495f-a58f-e5422e62767b",
   "metadata": {},
   "source": [
    "Q8. Generate a random sample of size 1000 from a Poisson distribution with mean 5 and calculate the\n",
    "sample mean and variance."
   ]
  },
  {
   "cell_type": "code",
   "execution_count": 53,
   "id": "e449f2af-985f-4a0a-8926-e2cf64e3c4f3",
   "metadata": {},
   "outputs": [
    {
     "ename": "NameError",
     "evalue": "name 'var' is not defined",
     "output_type": "error",
     "traceback": [
      "\u001b[0;31m---------------------------------------------------------------------------\u001b[0m",
      "\u001b[0;31mNameError\u001b[0m                                 Traceback (most recent call last)",
      "Cell \u001b[0;32mIn[53], line 8\u001b[0m\n\u001b[1;32m      5\u001b[0m np\u001b[38;5;241m.\u001b[39mmean(data)\n\u001b[1;32m      6\u001b[0m np\u001b[38;5;241m.\u001b[39mvar(data)\n\u001b[0;32m----> 8\u001b[0m probability_cdf \u001b[38;5;241m=\u001b[39m poisson\u001b[38;5;241m.\u001b[39mcdf(\u001b[38;5;241m3\u001b[39m,loc\u001b[38;5;241m=\u001b[39mmean,scale\u001b[38;5;241m=\u001b[39m\u001b[43mvar\u001b[49m)\n\u001b[1;32m      9\u001b[0m probability_cdf\n",
      "\u001b[0;31mNameError\u001b[0m: name 'var' is not defined"
     ]
    }
   ],
   "source": [
    "from scipy.stats import poisson\n",
    "import numpy as np\n",
    "from numpy import random\n",
    "data = np.random.poisson(1000)\n",
    "np.mean(data)\n",
    "np.var(data)\n",
    "\n",
    "probability_cdf = poisson.cdf(3,loc=mean,scale=var)\n",
    "probability_cdf"
   ]
  },
  {
   "cell_type": "markdown",
   "id": "285ec450-5d85-4a39-a813-32c345f880cb",
   "metadata": {},
   "source": [
    "Q9. How mean and variance are related in Binomial distribution and Poisson distribution?\n",
    "\n",
    "Mean of binomial distribution is > variance \n",
    "whereas mean of poisson distribution is = variance"
   ]
  },
  {
   "cell_type": "markdown",
   "id": "837543ff-48bb-4455-884a-ceb1860f1fe0",
   "metadata": {},
   "source": [
    "Q10. In normal distribution with respect to mean position, where does the least frequent data appear?\n",
    "\n",
    "In normal distribution with respect to mean position, the least frequency of data is appeared onto its left side of the mean."
   ]
  }
 ],
 "metadata": {
  "kernelspec": {
   "display_name": "Python 3 (ipykernel)",
   "language": "python",
   "name": "python3"
  },
  "language_info": {
   "codemirror_mode": {
    "name": "ipython",
    "version": 3
   },
   "file_extension": ".py",
   "mimetype": "text/x-python",
   "name": "python",
   "nbconvert_exporter": "python",
   "pygments_lexer": "ipython3",
   "version": "3.10.8"
  }
 },
 "nbformat": 4,
 "nbformat_minor": 5
}
