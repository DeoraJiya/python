{
 "cells": [
  {
   "cell_type": "markdown",
   "id": "a0cc5eac-0bb9-44c2-8c71-68a15592c97e",
   "metadata": {},
   "source": [
    "Q1.HOW DO YOU COMMENT CODE IN PYTHON? WHAT ARE THE DIFFERENT TYPES OF COMMENTS?\n"
   ]
  },
  {
   "cell_type": "code",
   "execution_count": null,
   "id": "32782140-f376-46c2-86a4-e36258cc5acc",
   "metadata": {},
   "outputs": [],
   "source": [
    "THE DIFFERENT TYPES OF COMMENTS ARE GIVEN BELOW:\n",
    "1. ###\n",
    "2. '''.......'''\n",
    "3. #\n"
   ]
  },
  {
   "cell_type": "markdown",
   "id": "b583953d-e27e-49f2-8833-83d1f878dc3c",
   "metadata": {},
   "source": [
    "Q2.WHAT ARE THE VARIABLES IN PYTHON? HOW DO YOU DECLARE AND ASSIGN VALUES TO VARIABLES?"
   ]
  },
  {
   "cell_type": "code",
   "execution_count": 4,
   "id": "bb747d13-8a16-4b15-8dfb-1755bdd06a21",
   "metadata": {},
   "outputs": [
    {
     "data": {
      "text/plain": [
       "'JIYA JAIN'"
      ]
     },
     "execution_count": 4,
     "metadata": {},
     "output_type": "execute_result"
    }
   ],
   "source": [
    "'''VARIABLES ARE THE CONTAINER IN WHICH WE STORE \n",
    "SOME SOUGHT OF DATA AND BY THAT ITS EASY FOR THE CODERS \n",
    "TO IDENTIFY THAT IN WHICH THEY HAVE STORED THE WHICH TYPE OF DATA'''\n",
    "\n",
    "_a = \"JIYA JAIN\"\n",
    "_a"
   ]
  },
  {
   "cell_type": "markdown",
   "id": "0c08bab1-c282-4bc8-81e9-c332a4e89aa9",
   "metadata": {},
   "source": [
    "Q3. HOW DO YOU CCONVERT ONE DATA TYPE TO ANOTHER IN PYTHON?\n"
   ]
  },
  {
   "cell_type": "code",
   "execution_count": 11,
   "id": "e617eefb-94b4-48b9-b1a5-f4b4701a8e45",
   "metadata": {},
   "outputs": [
    {
     "data": {
      "text/plain": [
       "(89.7+0j)"
      ]
     },
     "execution_count": 11,
     "metadata": {},
     "output_type": "execute_result"
    }
   ],
   "source": [
    "a = 89.5\n",
    "b = int(a) #float value is converted in \"int\" data type\n",
    "b\n",
    "\n",
    "x = 89.7\n",
    "y = complex(x) #float is converted in \"complex\" data type\n",
    "y"
   ]
  },
  {
   "cell_type": "markdown",
   "id": "d19b54a5-24da-4a6d-9e75-71bbfab56813",
   "metadata": {},
   "source": [
    "Q4. HOW DO YOU WRITE AND EXECUTE A PYTHON SCRIPT FROM THE COMMAND LINE?\n"
   ]
  },
  {
   "cell_type": "code",
   "execution_count": null,
   "id": "3b6d3208-2100-423a-a116-b1386e86b34f",
   "metadata": {},
   "outputs": [],
   "source": [
    "python3 file_name.py"
   ]
  },
  {
   "cell_type": "markdown",
   "id": "e9312857-d832-499d-8a21-f5b73e25fe15",
   "metadata": {},
   "source": [
    "Q5. GIVEN A LIST my_list = [1,2,3,4,5], WRITE THE CODE TO SLICE THE LIST AND OPTAIN THE SUB-LIST[2,3].\n"
   ]
  },
  {
   "cell_type": "code",
   "execution_count": 19,
   "id": "4efa66f5-a1db-45ac-8a9c-db7145156061",
   "metadata": {},
   "outputs": [
    {
     "name": "stdout",
     "output_type": "stream",
     "text": [
      "[1, 2, 3, 4, 5]\n"
     ]
    },
    {
     "data": {
      "text/plain": [
       "[2, 3]"
      ]
     },
     "execution_count": 19,
     "metadata": {},
     "output_type": "execute_result"
    }
   ],
   "source": [
    "my_list = [1,2,3,4,5]\n",
    "print(my_list)\n",
    "my_list[1:3]\n"
   ]
  },
  {
   "cell_type": "markdown",
   "id": "28217367-8888-40c9-b838-af228eaa94fd",
   "metadata": {},
   "source": [
    "Q6. WHAT IS A COMPLEX NUMBER IN MATHEMATICS, AND HOW IS IT REPRESENTED IN PYTHON?"
   ]
  },
  {
   "cell_type": "code",
   "execution_count": null,
   "id": "99331532-7d2e-459f-b861-9a960cd274ca",
   "metadata": {},
   "outputs": [],
   "source": [
    "#COMPLEX NUMBER CAN BE SAID AS IMAGINARY NUMBER AS IT IS A COMBINATION OF REAL NUMBERS AND IMAGINARY. \n",
    "#IT CAN BE UNDERSTAND MORE BY GIVEN CODE AS BELOW."
   ]
  },
  {
   "cell_type": "code",
   "execution_count": 26,
   "id": "668c16ef-e9a6-4b91-a021-892359f143b6",
   "metadata": {},
   "outputs": [
    {
     "data": {
      "text/plain": [
       "(78+6j)"
      ]
     },
     "execution_count": 26,
     "metadata": {},
     "output_type": "execute_result"
    }
   ],
   "source": [
    "a = 78+6j #representation of complex number\n",
    "a"
   ]
  },
  {
   "cell_type": "code",
   "execution_count": 25,
   "id": "afa2de6b-682b-466f-97d2-dbf5d1b4c093",
   "metadata": {},
   "outputs": [
    {
     "data": {
      "text/plain": [
       "complex"
      ]
     },
     "execution_count": 25,
     "metadata": {},
     "output_type": "execute_result"
    }
   ],
   "source": [
    "type(a)"
   ]
  },
  {
   "cell_type": "markdown",
   "id": "d3ba2bbd-87b4-4585-a27b-eb322260da3b",
   "metadata": {},
   "source": [
    "Q7. WHAT IS THE CORRECT WAY TO DECLARE A VARIABLE NAMED AGE AND ASSIGN THE VALUE 25 TO IT?"
   ]
  },
  {
   "cell_type": "code",
   "execution_count": 27,
   "id": "ca8ab059-e958-439e-b3d6-fcd409409353",
   "metadata": {},
   "outputs": [
    {
     "data": {
      "text/plain": [
       "25"
      ]
     },
     "execution_count": 27,
     "metadata": {},
     "output_type": "execute_result"
    }
   ],
   "source": [
    "age = 25\n",
    "age"
   ]
  },
  {
   "cell_type": "markdown",
   "id": "841ac692-ff00-4b86-ad0f-31ca533f9c88",
   "metadata": {},
   "source": [
    "Q8. DECLARE A VARIABLE NAMED PRICE AND ASSIGN THE VALUE 9.99 TO IT. WHAT DATA TYPE DOES THIS VARIABLE BELONG TO?"
   ]
  },
  {
   "cell_type": "code",
   "execution_count": 28,
   "id": "d5c6dbc0-b95c-406f-970a-7dfa7b1b40fb",
   "metadata": {},
   "outputs": [
    {
     "data": {
      "text/plain": [
       "9.99"
      ]
     },
     "execution_count": 28,
     "metadata": {},
     "output_type": "execute_result"
    }
   ],
   "source": [
    "price = 9.99\n",
    "price"
   ]
  },
  {
   "cell_type": "code",
   "execution_count": 29,
   "id": "c39171f0-0e2c-4f1f-a7b4-01e44d17f081",
   "metadata": {},
   "outputs": [
    {
     "data": {
      "text/plain": [
       "float"
      ]
     },
     "execution_count": 29,
     "metadata": {},
     "output_type": "execute_result"
    }
   ],
   "source": [
    "type(price)"
   ]
  },
  {
   "cell_type": "markdown",
   "id": "ff9965e7-d851-4ff5-8b8f-4c76cd87610a",
   "metadata": {},
   "source": [
    "Q9. CREATE A VARIABLE NAMED NAME AND ASSIGN YOUR FULL NAME TO IT AS A STRING. HOW WOULD YOU PRINT THE VALUE OF THIS VARIABLE."
   ]
  },
  {
   "cell_type": "code",
   "execution_count": 30,
   "id": "d7fc4b00-1234-4aef-ac99-58e015ecca6f",
   "metadata": {},
   "outputs": [
    {
     "name": "stdout",
     "output_type": "stream",
     "text": [
      "JIYA JAIN\n"
     ]
    }
   ],
   "source": [
    "name = \"JIYA JAIN\"\n",
    "print(name)"
   ]
  },
  {
   "cell_type": "markdown",
   "id": "e0f70228-d19e-4f7a-8fb4-4649f2b9719a",
   "metadata": {},
   "source": [
    "Q10. GIVEN THE STRING \"HELLO WORLD!\", EXTRACT THE SUBSTRING \"WORLD\"."
   ]
  },
  {
   "cell_type": "code",
   "execution_count": 31,
   "id": "7b5b1627-83b2-48f9-bc95-059873402090",
   "metadata": {},
   "outputs": [
    {
     "data": {
      "text/plain": [
       "'HELLO WORLD!'"
      ]
     },
     "execution_count": 31,
     "metadata": {},
     "output_type": "execute_result"
    }
   ],
   "source": [
    "str = \"HELLO WORLD!\"\n",
    "str"
   ]
  },
  {
   "cell_type": "code",
   "execution_count": 36,
   "id": "67781c0c-964d-45d0-ab3e-e8cdb4748b98",
   "metadata": {},
   "outputs": [
    {
     "data": {
      "text/plain": [
       "' WORLD'"
      ]
     },
     "execution_count": 36,
     "metadata": {},
     "output_type": "execute_result"
    }
   ],
   "source": [
    "str[5:11]"
   ]
  },
  {
   "cell_type": "markdown",
   "id": "110c14a1-c8d1-4fc9-b822-20bccaa6d3b6",
   "metadata": {},
   "source": [
    "Q11. CREATE A VARIABLE NAMED \"is_student\" AND ASSIGN IT TO A BOOLEAN VALUE INDICATING WHETHER YOU ARE CURRENTLY A STUDENT OR NOT."
   ]
  },
  {
   "cell_type": "code",
   "execution_count": 6,
   "id": "49ecd959-9f1d-45ad-8b2c-d8ff7dca3ac5",
   "metadata": {},
   "outputs": [
    {
     "name": "stdout",
     "output_type": "stream",
     "text": [
      "you are currently a student\n"
     ]
    }
   ],
   "source": [
    "is_student = bool\n",
    "if True>False:\n",
    "    print(\"you are currently a student\")\n",
    "else:\n",
    "    print(\"you are not a student\")\n",
    "        "
   ]
  }
 ],
 "metadata": {
  "kernelspec": {
   "display_name": "Python 3 (ipykernel)",
   "language": "python",
   "name": "python3"
  },
  "language_info": {
   "codemirror_mode": {
    "name": "ipython",
    "version": 3
   },
   "file_extension": ".py",
   "mimetype": "text/x-python",
   "name": "python",
   "nbconvert_exporter": "python",
   "pygments_lexer": "ipython3",
   "version": "3.10.8"
  }
 },
 "nbformat": 4,
 "nbformat_minor": 5
}
