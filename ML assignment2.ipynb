{
 "cells": [
  {
   "cell_type": "markdown",
   "id": "25406f76-8c21-4a33-b153-8b7242f9535e",
   "metadata": {},
   "source": [
    "Q1: Define overfitting and underfitting in machine learning. What are the consequences of each, and how\n",
    "can they be mitigated?\n",
    "\n",
    "\n",
    "Underfitting models experience high bias- they give inaccurate results for both the training data and test data.\n",
    "Overfitting models experience high variance- they give accurate results for the training set but not for the test set.\n",
    "\n",
    "consequences: \n",
    "Overfitting: good performance on the training data, poor generalization to other data.\n",
    "Underfitting: poor performance on the training data , poor generalization to other data."
   ]
  },
  {
   "cell_type": "markdown",
   "id": "c0c63155-62c6-4d9b-a887-26638fbf46dd",
   "metadata": {},
   "source": [
    "Q2: How can we reduce overfitting? Explain in brief.\n",
    "\n",
    "We can diversify and scale the training data or by using some other data science strategies, like given below:\n",
    "early stopping, pruning, regularization, ensembling, data augmentation."
   ]
  },
  {
   "cell_type": "markdown",
   "id": "0219306a-8162-4d37-b998-4e9dabeafe05",
   "metadata": {},
   "source": [
    "Q3: Explain underfitting. List scenarios where underfitting can occur in ML.\n",
    "\n",
    "Underfitting is the concept where it experiences high bias: they give inaccurate results for both the training data and test data.\n",
    "It may occur when a model is too simple- informed by too few features or regularized too much."
   ]
  },
  {
   "cell_type": "markdown",
   "id": "3767b47e-ce9d-4025-995f-a383fb1d5a2c",
   "metadata": {},
   "source": [
    "Q4: Explain the bias-variance tradeoff in machine learning. What is the relationship between bias and\n",
    "variance, and how do they affect model performance?\n",
    "\n",
    "Bias and variance are complements of each other \n",
    "The increase of one will result in the decrease of the other and vice versa.\n",
    "hence, finding the right balance of values is known as the bias-variance tradeoff."
   ]
  },
  {
   "cell_type": "markdown",
   "id": "c1901939-53b7-454b-a577-88fc19f92b6b",
   "metadata": {},
   "source": [
    "Q5: Discuss some common methods for detecting overfitting and underfitting in machine learning models.\n",
    "How can you determine whether your model is overfitting or underfitting?\n",
    "\n",
    "By looking at the prediction error, on the training data and the evaluation data; we can determine whether our model; is underfitting or overfitting.\n",
    "Our model is underfitting the training data when the model performs poorly on the training data, this is because the model is unable to capture the relationship between the input examples\n",
    "We see that the model performs data when you see that the model performs well on the training data but does not perform well on the evaluation data"
   ]
  },
  {
   "cell_type": "markdown",
   "id": "f138dd77-f7d0-4eac-a46b-328ba39caf2f",
   "metadata": {},
   "source": [
    "Q6: Compare and contrast bias and variance in machine learning. What are some examples of high bias\n",
    "and high variance models, and how do they differ in terms of their performance?\n",
    "\n",
    "High variance may represent the data set accurately but could lead to overfitting to noisy training data.\n",
    "High bias may underfit the training data due to simpler model. \n",
    "Example of high bias: linear regression, logistic regression\n",
    "Example of high variance: decision trees, support vector mach\n"
   ]
  },
  {
   "cell_type": "markdown",
   "id": "c0311733-89e0-4d5a-a92c-aff25a3aeddc",
   "metadata": {},
   "source": [
    "Q7: What is regularization in machine learning, and how can it be used to prevent overfitting? Describe\n",
    "some common regularization techniques and how they work.\n",
    "\n",
    "Regularization in ml, is the process of regularizing the parameters that constrain, regularizes, or shrinks the coefficient estimates towards zero.\n",
    "In short it can be said as, this technique discourages learning a more complex or flexible model, avoiding the risk of overfitting.\n"
   ]
  }
 ],
 "metadata": {
  "kernelspec": {
   "display_name": "Python 3 (ipykernel)",
   "language": "python",
   "name": "python3"
  },
  "language_info": {
   "codemirror_mode": {
    "name": "ipython",
    "version": 3
   },
   "file_extension": ".py",
   "mimetype": "text/x-python",
   "name": "python",
   "nbconvert_exporter": "python",
   "pygments_lexer": "ipython3",
   "version": "3.10.8"
  }
 },
 "nbformat": 4,
 "nbformat_minor": 5
}
