{
 "cells": [
  {
   "cell_type": "markdown",
   "id": "308ccbb8-a350-41d4-a7c8-6eb7ae490c44",
   "metadata": {},
   "source": [
    "Q1. Create a Pandas Series that contains the following data: 4, 8, 15, 16, 23, and 42. Then, print the series."
   ]
  },
  {
   "cell_type": "code",
   "execution_count": 12,
   "id": "e08d791f-c705-4cc4-8b13-ca142d336597",
   "metadata": {},
   "outputs": [
    {
     "name": "stdout",
     "output_type": "stream",
     "text": [
      "Requirement already satisfied: pandas in /opt/conda/lib/python3.10/site-packages (1.5.2)\n",
      "Requirement already satisfied: python-dateutil>=2.8.1 in /opt/conda/lib/python3.10/site-packages (from pandas) (2.8.2)\n",
      "Requirement already satisfied: pytz>=2020.1 in /opt/conda/lib/python3.10/site-packages (from pandas) (2022.6)\n",
      "Requirement already satisfied: numpy>=1.21.0 in /opt/conda/lib/python3.10/site-packages (from pandas) (1.23.5)\n",
      "Requirement already satisfied: six>=1.5 in /opt/conda/lib/python3.10/site-packages (from python-dateutil>=2.8.1->pandas) (1.16.0)\n",
      "Note: you may need to restart the kernel to use updated packages.\n"
     ]
    }
   ],
   "source": [
    "pip install pandas"
   ]
  },
  {
   "cell_type": "code",
   "execution_count": 13,
   "id": "b9a66693-a3f9-44a8-8a69-0f1b4bacef85",
   "metadata": {},
   "outputs": [
    {
     "data": {
      "text/plain": [
       "0     4\n",
       "1     8\n",
       "2    15\n",
       "3    16\n",
       "4    23\n",
       "5    42\n",
       "dtype: int64"
      ]
     },
     "execution_count": 13,
     "metadata": {},
     "output_type": "execute_result"
    }
   ],
   "source": [
    "import pandas as pd\n",
    "l = [ 4, 8, 15, 16, 23, 42]\n",
    "pd.Series(l)"
   ]
  },
  {
   "cell_type": "markdown",
   "id": "9c819fa2-081e-4de3-bfff-f9741bd01f12",
   "metadata": {},
   "source": [
    "Q2. Create a variable of list type containing 10 elements in it, and apply pandas.Series function on the\n",
    "variable print it."
   ]
  },
  {
   "cell_type": "code",
   "execution_count": 14,
   "id": "9172871b-a0d5-40ba-8aba-4b6db1f9cefd",
   "metadata": {},
   "outputs": [
    {
     "data": {
      "text/plain": [
       "0     45\n",
       "1     65\n",
       "2     23\n",
       "3     89\n",
       "4    234\n",
       "5     56\n",
       "6    345\n",
       "7     67\n",
       "8     12\n",
       "9    876\n",
       "dtype: int64"
      ]
     },
     "execution_count": 14,
     "metadata": {},
     "output_type": "execute_result"
    }
   ],
   "source": [
    "l1 = [45,65,23,89,234,56,345,67,12,876]\n",
    "pd.Series(l1)"
   ]
  },
  {
   "cell_type": "markdown",
   "id": "f63dce40-bc58-4d5e-8001-6c73ecc17081",
   "metadata": {},
   "source": [
    "Q4. What is ‘DataFrame’ in pandas and how is it different from pandas.series? Explain with an example."
   ]
  },
  {
   "cell_type": "markdown",
   "id": "da5d53db-062e-40f4-9823-89c20cbd8f0b",
   "metadata": {},
   "source": [
    "DATA FRAME CONTAINS THE MULTIPLE COLUMNS AND RECORDS. AND IT IS DIIFERENT FROM PANDAS.SERIES AS SERIES CONTAINS ONLY ONE RECORD OR COLUMN."
   ]
  },
  {
   "cell_type": "code",
   "execution_count": 28,
   "id": "91ff95cf-efe2-44fc-a68d-23f837aebfc1",
   "metadata": {
    "tags": []
   },
   "outputs": [
    {
     "data": {
      "text/plain": [
       "0    4378\n",
       "1    4387\n",
       "2    4853\n",
       "3    5794\n",
       "4    5489\n",
       "dtype: int64"
      ]
     },
     "execution_count": 28,
     "metadata": {},
     "output_type": "execute_result"
    }
   ],
   "source": [
    "import pandas as pd\n",
    "l = [4378,4387,4853,5794,5489]\n",
    "pd.Series(l)   #THIS IS AN EXAMPPLE OF SERIES"
   ]
  },
  {
   "cell_type": "code",
   "execution_count": 51,
   "id": "2b4e81ac-7924-492b-9709-96bc52bf082b",
   "metadata": {
    "tags": []
   },
   "outputs": [
    {
     "data": {
      "text/html": [
       "<div>\n",
       "<style scoped>\n",
       "    .dataframe tbody tr th:only-of-type {\n",
       "        vertical-align: middle;\n",
       "    }\n",
       "\n",
       "    .dataframe tbody tr th {\n",
       "        vertical-align: top;\n",
       "    }\n",
       "\n",
       "    .dataframe thead th {\n",
       "        text-align: right;\n",
       "    }\n",
       "</style>\n",
       "<table border=\"1\" class=\"dataframe\">\n",
       "  <thead>\n",
       "    <tr style=\"text-align: right;\">\n",
       "      <th></th>\n",
       "      <th>0</th>\n",
       "      <th>1</th>\n",
       "      <th>2</th>\n",
       "      <th>3</th>\n",
       "    </tr>\n",
       "  </thead>\n",
       "  <tbody>\n",
       "    <tr>\n",
       "      <th>0</th>\n",
       "      <td>NAME</td>\n",
       "      <td>HARDIKA</td>\n",
       "      <td>AMYRAA</td>\n",
       "      <td>KINJAL</td>\n",
       "    </tr>\n",
       "    <tr>\n",
       "      <th>1</th>\n",
       "      <td>ADDRESS</td>\n",
       "      <td>MUMBAI</td>\n",
       "      <td>DELHI</td>\n",
       "      <td>PUNE</td>\n",
       "    </tr>\n",
       "  </tbody>\n",
       "</table>\n",
       "</div>"
      ],
      "text/plain": [
       "         0        1       2       3\n",
       "0     NAME  HARDIKA  AMYRAA  KINJAL\n",
       "1  ADDRESS   MUMBAI   DELHI    PUNE"
      ]
     },
     "execution_count": 51,
     "metadata": {},
     "output_type": "execute_result"
    }
   ],
   "source": [
    "l = ['NAME','HARDIKA','AMYRAA','KINJAL'] , ['ADDRESS','MUMBAI','DELHI','PUNE']\n",
    "pd.DataFrame(l)  #THIS IS AN EXAMPLE OF DATFRAME"
   ]
  },
  {
   "cell_type": "markdown",
   "id": "7e3eecde-ab28-43d7-8964-f050d276fc6b",
   "metadata": {},
   "source": [
    "Q3. Create a Pandas DataFrame that contains the following data:\n",
    "\n",
    "\n",
    "Name\n",
    "Alice\n",
    "Bob\n",
    "Claire\n",
    "\n",
    "Age\n",
    "25\n",
    "30\n",
    "27\n",
    "\n",
    "Gender\n",
    "Female\n",
    "Male\n",
    "Female"
   ]
  },
  {
   "cell_type": "code",
   "execution_count": 52,
   "id": "1ba76371-dd99-46d3-9f7c-45b657b0ba89",
   "metadata": {},
   "outputs": [
    {
     "data": {
      "text/html": [
       "<div>\n",
       "<style scoped>\n",
       "    .dataframe tbody tr th:only-of-type {\n",
       "        vertical-align: middle;\n",
       "    }\n",
       "\n",
       "    .dataframe tbody tr th {\n",
       "        vertical-align: top;\n",
       "    }\n",
       "\n",
       "    .dataframe thead th {\n",
       "        text-align: right;\n",
       "    }\n",
       "</style>\n",
       "<table border=\"1\" class=\"dataframe\">\n",
       "  <thead>\n",
       "    <tr style=\"text-align: right;\">\n",
       "      <th></th>\n",
       "      <th>0</th>\n",
       "      <th>1</th>\n",
       "      <th>2</th>\n",
       "      <th>3</th>\n",
       "    </tr>\n",
       "  </thead>\n",
       "  <tbody>\n",
       "    <tr>\n",
       "      <th>0</th>\n",
       "      <td>NAME</td>\n",
       "      <td>ALICE</td>\n",
       "      <td>BOB</td>\n",
       "      <td>CLAIRE</td>\n",
       "    </tr>\n",
       "    <tr>\n",
       "      <th>1</th>\n",
       "      <td>AGE</td>\n",
       "      <td>25</td>\n",
       "      <td>30</td>\n",
       "      <td>27</td>\n",
       "    </tr>\n",
       "    <tr>\n",
       "      <th>2</th>\n",
       "      <td>GENDER</td>\n",
       "      <td>FEMALE</td>\n",
       "      <td>MALE</td>\n",
       "      <td>FEMALE</td>\n",
       "    </tr>\n",
       "  </tbody>\n",
       "</table>\n",
       "</div>"
      ],
      "text/plain": [
       "        0       1     2       3\n",
       "0    NAME   ALICE   BOB  CLAIRE\n",
       "1     AGE      25    30      27\n",
       "2  GENDER  FEMALE  MALE  FEMALE"
      ]
     },
     "execution_count": 52,
     "metadata": {},
     "output_type": "execute_result"
    }
   ],
   "source": [
    "df = ['NAME','ALICE','BOB','CLAIRE'] , ['AGE',25, 30, 27] , ['GENDER','FEMALE','MALE','FEMALE']\n",
    "pd.DataFrame(df)"
   ]
  },
  {
   "cell_type": "markdown",
   "id": "588e9b14-dce7-4cc1-9e55-44e391d70834",
   "metadata": {},
   "source": [
    "Q5. What are some common functions you can use to manipulate data in a Pandas DataFrame? Can\n",
    "you give an example of when you might use one of these functions?"
   ]
  },
  {
   "cell_type": "code",
   "execution_count": 54,
   "id": "0c6e6127-cf10-43e3-9842-0b08b45dea4b",
   "metadata": {},
   "outputs": [
    {
     "data": {
      "text/html": [
       "<div>\n",
       "<style scoped>\n",
       "    .dataframe tbody tr th:only-of-type {\n",
       "        vertical-align: middle;\n",
       "    }\n",
       "\n",
       "    .dataframe tbody tr th {\n",
       "        vertical-align: top;\n",
       "    }\n",
       "\n",
       "    .dataframe thead th {\n",
       "        text-align: right;\n",
       "    }\n",
       "</style>\n",
       "<table border=\"1\" class=\"dataframe\">\n",
       "  <thead>\n",
       "    <tr style=\"text-align: right;\">\n",
       "      <th></th>\n",
       "      <th>0</th>\n",
       "      <th>1</th>\n",
       "      <th>2</th>\n",
       "      <th>3</th>\n",
       "    </tr>\n",
       "  </thead>\n",
       "  <tbody>\n",
       "    <tr>\n",
       "      <th>0</th>\n",
       "      <td>NAME</td>\n",
       "      <td>ALICE</td>\n",
       "      <td>BOB</td>\n",
       "      <td>CLAIRE</td>\n",
       "    </tr>\n",
       "    <tr>\n",
       "      <th>1</th>\n",
       "      <td>AGE</td>\n",
       "      <td>25</td>\n",
       "      <td>30</td>\n",
       "      <td>27</td>\n",
       "    </tr>\n",
       "    <tr>\n",
       "      <th>2</th>\n",
       "      <td>GENDER</td>\n",
       "      <td>FEMALE</td>\n",
       "      <td>MALE</td>\n",
       "      <td>FEMALE</td>\n",
       "    </tr>\n",
       "    <tr>\n",
       "      <th>3</th>\n",
       "      <td>CONTACT_NO</td>\n",
       "      <td>7059697054</td>\n",
       "      <td>3565838275</td>\n",
       "      <td>9827590692</td>\n",
       "    </tr>\n",
       "    <tr>\n",
       "      <th>4</th>\n",
       "      <td>INSTITUTE_NAME</td>\n",
       "      <td>VIT INSTITUTE</td>\n",
       "      <td>MIT UNIVERSITY</td>\n",
       "      <td>JAIN UNIVERSITY</td>\n",
       "    </tr>\n",
       "    <tr>\n",
       "      <th>5</th>\n",
       "      <td>ADDRESS</td>\n",
       "      <td>MUMBAI</td>\n",
       "      <td>DELHI</td>\n",
       "      <td>PUNE</td>\n",
       "    </tr>\n",
       "  </tbody>\n",
       "</table>\n",
       "</div>"
      ],
      "text/plain": [
       "                0              1               2                3\n",
       "0            NAME          ALICE             BOB           CLAIRE\n",
       "1             AGE             25              30               27\n",
       "2          GENDER         FEMALE            MALE           FEMALE\n",
       "3      CONTACT_NO     7059697054      3565838275       9827590692\n",
       "4  INSTITUTE_NAME  VIT INSTITUTE  MIT UNIVERSITY  JAIN UNIVERSITY\n",
       "5         ADDRESS         MUMBAI           DELHI             PUNE"
      ]
     },
     "execution_count": 54,
     "metadata": {},
     "output_type": "execute_result"
    }
   ],
   "source": [
    "df = ['NAME','ALICE','BOB','CLAIRE'] , ['AGE',25, 30, 27] , ['GENDER','FEMALE','MALE','FEMALE'] , ['CONTACT_NO',7059697054,3565838275,9827590692] , ['INSTITUTE_NAME','VIT INSTITUTE','MIT UNIVERSITY','JAIN UNIVERSITY'] , ['ADDRESS','MUMBAI','DELHI','PUNE']\n",
    "pd.DataFrame(df)\n"
   ]
  },
  {
   "cell_type": "markdown",
   "id": "2b74b98c-0c54-4a07-90e4-7f3f0c508e4e",
   "metadata": {},
   "source": [
    "THE FUNCTIONS THAT ARE USED FOR MANIPULATINFG THE DATA IN PANDAS:\n",
    "head function is used for getting the first records of data.\n",
    "tail function is used for getting the last records of data.\n",
    "read function is used to read the data\n",
    "column function is used to get the columns of data.\n",
    "row function is used to get the rows of data."
   ]
  },
  {
   "cell_type": "markdown",
   "id": "8fa9f3a2-ad59-4ade-892f-474502367bd9",
   "metadata": {},
   "source": [
    "Q6. Which of the following is mutable in nature Series, DataFrame, Panel?"
   ]
  },
  {
   "cell_type": "markdown",
   "id": "6eaee32a-3549-423b-81e9-178f07ae92d9",
   "metadata": {},
   "source": [
    "SO, HERE DATAFRAME AND PANEL IS MUTABLE AND SERIES IS IMMUTABLE.\n",
    "MUTABLE MEANS THE VALUE CAN BE CHANGED AND IMMUTABLE VICEVERSA."
   ]
  },
  {
   "cell_type": "markdown",
   "id": "b9dcee03-530c-4854-8398-b943650e37d9",
   "metadata": {},
   "source": [
    "Q7. Create a DataFrame using multiple Series. Explain with an example."
   ]
  },
  {
   "cell_type": "code",
   "execution_count": 80,
   "id": "2703c9c2-23fa-452f-b576-1b3586ff85fc",
   "metadata": {},
   "outputs": [
    {
     "data": {
      "text/html": [
       "<div>\n",
       "<style scoped>\n",
       "    .dataframe tbody tr th:only-of-type {\n",
       "        vertical-align: middle;\n",
       "    }\n",
       "\n",
       "    .dataframe tbody tr th {\n",
       "        vertical-align: top;\n",
       "    }\n",
       "\n",
       "    .dataframe thead th {\n",
       "        text-align: right;\n",
       "    }\n",
       "</style>\n",
       "<table border=\"1\" class=\"dataframe\">\n",
       "  <thead>\n",
       "    <tr style=\"text-align: right;\">\n",
       "      <th></th>\n",
       "      <th>AUTHOR</th>\n",
       "      <th>ARTICLE</th>\n",
       "    </tr>\n",
       "  </thead>\n",
       "  <tbody>\n",
       "    <tr>\n",
       "      <th>0</th>\n",
       "      <td>JITENDRA</td>\n",
       "      <td>210</td>\n",
       "    </tr>\n",
       "    <tr>\n",
       "      <th>1</th>\n",
       "      <td>PURNIMA</td>\n",
       "      <td>465</td>\n",
       "    </tr>\n",
       "    <tr>\n",
       "      <th>2</th>\n",
       "      <td>JOSEPH</td>\n",
       "      <td>896</td>\n",
       "    </tr>\n",
       "  </tbody>\n",
       "</table>\n",
       "</div>"
      ],
      "text/plain": [
       "     AUTHOR  ARTICLE\n",
       "0  JITENDRA      210\n",
       "1   PURNIMA      465\n",
       "2    JOSEPH      896"
      ]
     },
     "execution_count": 80,
     "metadata": {},
     "output_type": "execute_result"
    }
   ],
   "source": [
    "import pandas as pd\n",
    "author = ['JITENDRA','PURNIMA','JOSEPH']\n",
    "article = [210,465,896]\n",
    "\n",
    "frame = {'AUTHOR': author,\n",
    "        'ARTICLE': article}\n",
    "\n",
    "result = pd.DataFrame(frame)\n",
    "result"
   ]
  },
  {
   "cell_type": "code",
   "execution_count": 98,
   "id": "3bec4937-8359-4576-8052-037af86f2881",
   "metadata": {},
   "outputs": [
    {
     "data": {
      "text/html": [
       "<div>\n",
       "<style scoped>\n",
       "    .dataframe tbody tr th:only-of-type {\n",
       "        vertical-align: middle;\n",
       "    }\n",
       "\n",
       "    .dataframe tbody tr th {\n",
       "        vertical-align: top;\n",
       "    }\n",
       "\n",
       "    .dataframe thead th {\n",
       "        text-align: right;\n",
       "    }\n",
       "</style>\n",
       "<table border=\"1\" class=\"dataframe\">\n",
       "  <thead>\n",
       "    <tr style=\"text-align: right;\">\n",
       "      <th></th>\n",
       "      <th>AUTHOR</th>\n",
       "      <th>ARTICLE</th>\n",
       "    </tr>\n",
       "  </thead>\n",
       "  <tbody>\n",
       "    <tr>\n",
       "      <th>0</th>\n",
       "      <td>JITENDRA</td>\n",
       "      <td>210</td>\n",
       "    </tr>\n",
       "    <tr>\n",
       "      <th>1</th>\n",
       "      <td>PURNIMA</td>\n",
       "      <td>465</td>\n",
       "    </tr>\n",
       "    <tr>\n",
       "      <th>2</th>\n",
       "      <td>JOSEPH</td>\n",
       "      <td>896</td>\n",
       "    </tr>\n",
       "  </tbody>\n",
       "</table>\n",
       "</div>"
      ],
      "text/plain": [
       "     AUTHOR  ARTICLE\n",
       "0  JITENDRA      210\n",
       "1   PURNIMA      465\n",
       "2    JOSEPH      896"
      ]
     },
     "execution_count": 98,
     "metadata": {},
     "output_type": "execute_result"
    }
   ],
   "source": [
    "import pandas as pd\n",
    "author = ['JITENDRA','PURNIMA','JOSEPH']\n",
    "article = [210,465,896]\n",
    "price = []\n",
    "\n",
    "result = pd.DataFrame(frame)"
   ]
  }
 ],
 "metadata": {
  "kernelspec": {
   "display_name": "Python 3 (ipykernel)",
   "language": "python",
   "name": "python3"
  },
  "language_info": {
   "codemirror_mode": {
    "name": "ipython",
    "version": 3
   },
   "file_extension": ".py",
   "mimetype": "text/x-python",
   "name": "python",
   "nbconvert_exporter": "python",
   "pygments_lexer": "ipython3",
   "version": "3.10.8"
  }
 },
 "nbformat": 4,
 "nbformat_minor": 5
}
