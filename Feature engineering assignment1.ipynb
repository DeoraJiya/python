{
 "cells": [
  {
   "cell_type": "markdown",
   "id": "a011b9ad-1202-4689-aced-a9909c416535",
   "metadata": {},
   "source": [
    "Q1. What is the Filter method in feature selection, and how does it work?\n",
    "\n",
    "Filter methods are generally used as preprocessing step.\n",
    "The filter method filters out the irrelevant feature and redundant columns from the model by using different metrics through ranking.\n",
    "how does it work:\n",
    "Feature Scoring: In the filter method, each feature is assigned a score or rank based on some statistical measure or criterion. Common scoring methods used include correlation, chi-squared test, information gain, and variance threshold."
   ]
  },
  {
   "cell_type": "markdown",
   "id": "7f85edf7-d6de-4fb5-b0c1-7a08ce8fa579",
   "metadata": {},
   "source": [
    "Q2. How does the Wrapper method differ from the Filter method in feature selection?\n",
    "\n",
    "Wrapper methods measure the usefulness of features based on the classifier performance.\n",
    "And the filter methods pick up the intrinsic properties of the features i.e. the relevance of the features.\n",
    "So, wrapper methods are especially solving the real problem but they are also more expenxive then to filter methods due to the repeated learning steps and cross validation."
   ]
  },
  {
   "cell_type": "markdown",
   "id": "3556405b-8204-402d-b163-eaa2f78c121c",
   "metadata": {},
   "source": [
    "Q3. What are some common techniques used in Embedded feature selection methods?\n",
    "\n",
    "It includes:\n",
    "Decision tree-based algorithms(eg: decision tree, random forest, gradient boosting)\n",
    "and\n",
    "Feature selection using regularization models(eg: LASSO or elastic net)"
   ]
  },
  {
   "cell_type": "markdown",
   "id": "09c937c6-fac7-4d18-b6c1-2116c7b542db",
   "metadata": {},
   "source": [
    "Q4. What are some drawbacks of using the Filter method for feature selection?\n",
    "\n",
    "Drawbacks are as:\n",
    "1.They ignore the interaction with the classifier.\n",
    "2.Dependencies between features are normally ignored.\n",
    "3.By this, it may lead to low computational performance as compared to other techniques of feature selection."
   ]
  },
  {
   "cell_type": "markdown",
   "id": "fdd94665-0e8a-4fb9-a56a-8edcb0149382",
   "metadata": {},
   "source": [
    "Q5. In which situations would you prefer using the Filter method over the Wrapper method for feature\n",
    "selection?\n",
    "\n",
    "For large data we should use the filter approaches because these approaches are rapid and for small size of data it is better to use wrapper approaches because they are slower than the filter approaches."
   ]
  },
  {
   "cell_type": "markdown",
   "id": "53d1a7d7-b696-4ea3-b92c-4068028b4657",
   "metadata": {},
   "source": [
    "Q6. In a telecom company, you are working on a project to develop a predictive model for customer churn.\n",
    "You are unsure of which features to include in the model because the dataset contains several different\n",
    "ones. Describe how you would choose the most pertinent attributes for the model using the Filter Method.\n",
    "\n",
    "1.identify the features(it includes independent and dependent feature).\n",
    "2.will choose a filter method like: information gain,chi-squared test, correlation coefficient.\n",
    "3.calculate the filter score for each feature: it will tell how important each feature is for predicting churn.\n",
    "4.select the features with highest filter scores."
   ]
  },
  {
   "cell_type": "markdown",
   "id": "c4050fd9-26a1-4671-8202-55cf306f40ee",
   "metadata": {},
   "source": [
    "Q7. You are working on a project to predict the outcome of a soccer match. You have a large dataset with\n",
    "many features, including player statistics and team rankings. Explain how you would use the Embedded\n",
    "method to select the most relevant features for the model.\n",
    "\n",
    "1.identify the features.\n",
    "2.will choose an embedded method like: rasso regression, rigde regression and random forest.\n",
    "3.calculate the embedded score for each feature: it will tell how important each feature is for predicting the outcome of soccer match.\n",
    "4.select the features with highest embedded scores."
   ]
  },
  {
   "cell_type": "markdown",
   "id": "05ebe5c4-c493-4176-8a71-55b8866be103",
   "metadata": {},
   "source": [
    "Q8. You are working on a project to predict the price of a house based on its features, such as size, location,\n",
    "and age. You have a limited number of features, and you want to ensure that you select the most important\n",
    "ones for the model. Explain how you would use the Wrapper method to select the best set of features for the\n",
    "predictor. \n",
    "\n",
    "1.identify the features.\n",
    "2.will choose an wrapper method li\n",
    "3.calculate the wrapper score for each feature: it will tell how important each feature is for predicting.\n",
    "4.select the features with highest wrapper scores."
   ]
  },
  {
   "cell_type": "code",
   "execution_count": null,
   "id": "3fbf221a-e10c-4657-bb0f-c011bfbd59f1",
   "metadata": {},
   "outputs": [],
   "source": []
  }
 ],
 "metadata": {
  "kernelspec": {
   "display_name": "Python 3 (ipykernel)",
   "language": "python",
   "name": "python3"
  },
  "language_info": {
   "codemirror_mode": {
    "name": "ipython",
    "version": 3
   },
   "file_extension": ".py",
   "mimetype": "text/x-python",
   "name": "python",
   "nbconvert_exporter": "python",
   "pygments_lexer": "ipython3",
   "version": "3.10.8"
  }
 },
 "nbformat": 4,
 "nbformat_minor": 5
}
