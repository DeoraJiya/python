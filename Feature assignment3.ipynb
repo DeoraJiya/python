{
 "cells": [
  {
   "cell_type": "markdown",
   "id": "7fa51d98-da28-443e-b650-4b85b1a1c91b",
   "metadata": {},
   "source": [
    "Q1. What is data encoding? How is it useful in data science?\n",
    "\n",
    "\n",
    "Data encoding involves converting a sequence of text characters into binary code.The main aim of data encoding is to convert the categorical feature into suitable numerical feature, so that we can train our machine learning model.\n",
    "Use of data encoding in data science:\n",
    "It is mostly in use for the secured transmission of data.\n",
    "It is useful in data science because the machine learning models can work with numerical values not with categorical value."
   ]
  },
  {
   "cell_type": "markdown",
   "id": "98085e94-f0c2-4dee-9928-3e977d0d215b",
   "metadata": {},
   "source": [
    "Q2. What is nominal encoding? Provide an example.\n",
    "\n",
    "Nominal encoding also known as one hot encoding.\n",
    "When we have a feature where variables are just names and there is no order or rank to this variable's feature.\n",
    "For example: City of person lives, Gender of person and many more.\n",
    "In the above example, we do not have any order or rank. All the variables in the respective feature are equal.\n",
    "We cant give them any orders or ranks. So these, features are called as nominal features."
   ]
  },
  {
   "cell_type": "markdown",
   "id": "444a6c6d-2a7d-4558-9204-952e1b708e8a",
   "metadata": {},
   "source": [
    "Q3. In what situations is nominal encoding preferred over one-hot encoding?\n",
    "\n",
    "When we have a feature where variables are just names and there is no order or rank to this variables's feature.\n",
    "We are supposed to use nominal encoding."
   ]
  },
  {
   "cell_type": "markdown",
   "id": "5b96f9e1-debe-44f7-a433-26cd710b4222",
   "metadata": {},
   "source": [
    "Q4. Suppose you have a dataset containing categorical data with 5 unique values. Which encoding\n",
    "technique would you use to transform this data into a format suitable for machine learning algorithms?\n",
    "Explain why you made this choice.\n",
    "\n",
    "Label encoding."
   ]
  },
  {
   "cell_type": "markdown",
   "id": "ccba24b5-6b56-44f7-9d25-8f10f227c245",
   "metadata": {},
   "source": [
    "Q6. You are working with a dataset containing information about different types of animals, including their\n",
    "species, habitat, and diet. Which encoding technique would you use to transform the categorical data into\n",
    "a format suitable for machine learning algorithm?\n",
    "\n",
    "Ordinal encoding."
   ]
  },
  {
   "cell_type": "markdown",
   "id": "d807d405-ccf1-4c27-b169-d67b42da337b",
   "metadata": {},
   "source": [
    "Q7.You are working on a project that involves predicting customer churn for a telecommunications\n",
    "company. You have a dataset with 5 features, including the customer's gender, age, contract type,\n",
    "monthly charges, and tenure. Which encoding technique(s) would you use to transform the categorical\n",
    "data into numerical data? Provide a step-by-step explanation of how you would implement the encoding.\n",
    "\n",
    "Label encoding."
   ]
  }
 ],
 "metadata": {
  "kernelspec": {
   "display_name": "Python 3 (ipykernel)",
   "language": "python",
   "name": "python3"
  },
  "language_info": {
   "codemirror_mode": {
    "name": "ipython",
    "version": 3
   },
   "file_extension": ".py",
   "mimetype": "text/x-python",
   "name": "python",
   "nbconvert_exporter": "python",
   "pygments_lexer": "ipython3",
   "version": "3.10.8"
  }
 },
 "nbformat": 4,
 "nbformat_minor": 5
}
