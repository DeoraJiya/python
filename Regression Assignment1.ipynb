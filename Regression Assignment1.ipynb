{
 "cells": [
  {
   "cell_type": "markdown",
   "id": "0f62296c-69f4-4fd2-bb39-bb2bef885af0",
   "metadata": {},
   "source": [
    "Explain the difference between simple linear regression and multiple linear regression. Provide an  example of each.\n",
    "\n",
    "Simple Linear Regression has only one x and one y variable.\n",
    "Multiple Linear Regression has one y and two or more x variables.\n",
    "\n",
    "When we predict rent based on square feet alone that is simple linear regression.\n",
    "And, when we predict rent based on square feet and age of the building that is an example of multiple linear regression."
   ]
  },
  {
   "cell_type": "markdown",
   "id": "a42fc916-fe20-4cca-9748-0f21430f0395",
   "metadata": {},
   "source": [
    "Discuss the assumptions of linear regression. How can you check whether these assumptions hold in a given dataset?\n",
    "\n",
    "There are 4 assumptions associated with a linear regression model:\n",
    "1.Linearity: The relationship between x and the mean of y is linear.\n",
    "2.Homoscedasiticy: The variance of residual is the same for any value of x.\n",
    "3.Independence: Observations are independent of each other.\n",
    "4.Normality: For any fixed value of x,y is normally distributed."
   ]
  },
  {
   "cell_type": "markdown",
   "id": "83deaaf6-8c1c-47f1-9362-fa940b50ee71",
   "metadata": {},
   "source": [
    "How do you interpret the slope and intercept in a linear regression model? Provide an example using a real-world scenario.\n",
    "\n",
    "The slope indicates the steepness of a line and the intercept indicates the location where it intersects an axis.\n",
    "For example:\n",
    "A company determines the job performance for employees in a production department can be predicted using the regression model y=130+4.3x, where\n",
    "x is the hours of inhouse training they receive from 0 to 20 and y is their score for an employee with no training.\n",
    "The value of the slope 4.3 indicates that for each hour of training , the job skill score increases, on average by 4.3 points."
   ]
  },
  {
   "cell_type": "markdown",
   "id": "d3fbca7f-76aa-4818-9ebb-ad0ccb607ecf",
   "metadata": {},
   "source": [
    "Explain the concept of gradient descent. How is it used in machine learning?\n",
    "\n",
    "Gradient descent is an optimization algorithm which is commonly used to train machine learning models and neural networks.\n",
    "Training data helps these models learn over time, and the cost function within gradient descent specifically acts as a barometer, gauging its accuracy with each iteration of parameter updates."
   ]
  },
  {
   "cell_type": "markdown",
   "id": "4b5d8cbe-0bc2-417f-a71f-8c0b61c95ccb",
   "metadata": {},
   "source": [
    "Describe the multiple linear regression model. How does it differ from simple linear regression? \n",
    "\n",
    "Multiple linear regression is a broader class of regressions that encompasses with multiple explanatory variables.\n",
    "Simple Linear Regression has only one x and one y variable.\n",
    "Multiple Linear Regression has one y and two or more x variables."
   ]
  },
  {
   "cell_type": "markdown",
   "id": "3798e84b-b21a-4a20-b4c8-0ba035cd90a4",
   "metadata": {},
   "source": [
    "Explain the concept of multicollinearity in multiple linear regression. How can you detect and  address this issue?\n",
    "\n",
    "Multicollinearity exists whenever an independent variable is highly correlated with one or more of the other independent variables in a multiple regression equation.\n",
    "It is a problem because it will make the statistical inferences less reliable.\n",
    "You can detect by correlation coefficients and variance inflation factor values."
   ]
  },
  {
   "cell_type": "markdown",
   "id": "4dc2f565-3c6c-4514-a1fe-1c36030081ac",
   "metadata": {},
   "source": [
    "Describe the polynomial regression model. How is it different from linear regression? \n",
    "\n",
    "A polynomial regression model is a machine learning model that can capture non-linear relationships between variables by fitting a non-linear\n",
    "regression line, which may not be possible with simple linear regression.\n",
    "It is used when linear regression models may not adequately capture the complexity of the relationship."
   ]
  },
  {
   "cell_type": "markdown",
   "id": "ceedfafe-3af3-4392-9841-5bd0ca335a8b",
   "metadata": {},
   "source": [
    "What are the advantages and disadvantages of polynomial regression compared to linear regression? In what situations would you prefer to use polynomial regression? \n",
    "\n",
    "Polynomial regression offers several advantages over linear regression:\n",
    "Non linear relationships, polynomial regression can capture non linear relationships between variables, unlike linear regression, which assumes a linear relationship. "
   ]
  },
  {
   "cell_type": "code",
   "execution_count": null,
   "id": "d275adb8-c99b-462b-9439-b76c2377f7c5",
   "metadata": {},
   "outputs": [],
   "source": []
  },
  {
   "cell_type": "code",
   "execution_count": null,
   "id": "84f7fece-2ffe-4ec0-a29a-32bd9d674475",
   "metadata": {},
   "outputs": [],
   "source": []
  },
  {
   "cell_type": "code",
   "execution_count": null,
   "id": "d65275e9-d30e-4a07-8e15-cf61e9f0d025",
   "metadata": {},
   "outputs": [],
   "source": []
  },
  {
   "cell_type": "code",
   "execution_count": null,
   "id": "c25ee937-6446-4c5b-8b48-5b146a6d3c3b",
   "metadata": {},
   "outputs": [],
   "source": []
  }
 ],
 "metadata": {
  "kernelspec": {
   "display_name": "Python 3 (ipykernel)",
   "language": "python",
   "name": "python3"
  },
  "language_info": {
   "codemirror_mode": {
    "name": "ipython",
    "version": 3
   },
   "file_extension": ".py",
   "mimetype": "text/x-python",
   "name": "python",
   "nbconvert_exporter": "python",
   "pygments_lexer": "ipython3",
   "version": "3.10.8"
  }
 },
 "nbformat": 4,
 "nbformat_minor": 5
}
