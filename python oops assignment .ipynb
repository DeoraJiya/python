{
 "cells": [
  {
   "cell_type": "markdown",
   "id": "dd4bbeb4-dc5a-491b-a60a-9d13c59e78e7",
   "metadata": {},
   "source": [
    "Q1. EXPLAIN CLASS AND OBJECT WITH RESPECT TO OOP. GIVE AN EXAMPLE:"
   ]
  },
  {
   "cell_type": "code",
   "execution_count": null,
   "id": "2db15517-bdce-4869-850c-6d7f38a38b4b",
   "metadata": {},
   "outputs": [],
   "source": [
    "# Classes can be said as blueprint and objects can be said as variable "
   ]
  },
  {
   "cell_type": "code",
   "execution_count": 8,
   "id": "ce7db7d7-85cc-4f94-acb6-409d8048b7c7",
   "metadata": {},
   "outputs": [
    {
     "name": "stdout",
     "output_type": "stream",
     "text": [
      "Jiya Jain is 20 years old and is Female\n"
     ]
    }
   ],
   "source": [
    "#class creation\n",
    "class student:\n",
    "    def __init__(self,name,age,gender):\n",
    "        self.name = name\n",
    "        self.age = age\n",
    "        self.gender = gender\n",
    "        \n",
    "    def show(self):\n",
    "        print(f\"{self.name} is {self.age} years old and is {self.gender}\")\n",
    "        \n",
    "#object creation\n",
    "a = student(\"Jiya Jain\", 20, \"Female\")\n",
    "a.show()\n",
    "\n",
    "   \n",
    "\n"
   ]
  },
  {
   "cell_type": "markdown",
   "id": "c2eb8c8d-7b80-4e80-ab4c-8863d584bb6b",
   "metadata": {},
   "source": [
    "Q2. NAME THE FOUR PILLARS OF OOPS"
   ]
  },
  {
   "cell_type": "code",
   "execution_count": null,
   "id": "d1bc8980-d603-45dc-b55f-8ea0d3cbaad1",
   "metadata": {},
   "outputs": [],
   "source": [
    "1. INHERITANCE\n",
    "2. ENCAPSULATION\n",
    "3. POLYMORPHISM\n",
    "4. ABSTRACTION"
   ]
  },
  {
   "cell_type": "markdown",
   "id": "d3e588d0-7321-42fb-ae43-199238c8209f",
   "metadata": {},
   "source": [
    "Q3. EXPLAIN WHY THE __INIT__() FUNCTION IS USED. GIVE AN EXAMPLE."
   ]
  },
  {
   "cell_type": "code",
   "execution_count": null,
   "id": "0a615c4a-064d-4b0d-b76e-aca6f2b58c6e",
   "metadata": {},
   "outputs": [],
   "source": [
    "# __INIT__() FUNCTION IS USED FOR COLLECTING THE DATA TOGETHER. IN SIMPLE TERMS IT CAN BE SAID AS A SERVANT OF OBJECTS"
   ]
  },
  {
   "cell_type": "code",
   "execution_count": 9,
   "id": "95b9a563-4302-48f4-be7c-ec6f652b8743",
   "metadata": {},
   "outputs": [],
   "source": [
    "# EXAMPLE OF __INIT__()\n",
    "class animal:\n",
    "    def __init__(self,animal_name,animal_weight,type_of_animal):\n",
    "        self.animal_name = animal_name\n",
    "        self.animal_weight = animal_weight\n",
    "        self.type_of_animal = type_of_animal\n",
    "\n",
    "# INIT CAN BE SAID AS CONSTRUCTOR \n"
   ]
  },
  {
   "cell_type": "markdown",
   "id": "2e579ef3-d292-42d6-8e1e-d2452ec85e6f",
   "metadata": {},
   "source": [
    "Q4. WHY SELF IS USED IN OOPS.\n",
    "\n",
    "SELF IS A CONVENTION THAT HELPS CLASS TO RECOGNIZE THAT IT BELONGS TO MY CLASS.\n",
    "WITHOUT USING SELF IT WILL THROW THE ERROR OR ELSE IT WILL NOT WORK."
   ]
  },
  {
   "cell_type": "markdown",
   "id": "037723d2-9c90-4f9b-a99a-40f1cfa93455",
   "metadata": {},
   "source": [
    "Q5. WHAT IS INHERITANCE? GIVE AN EXAMPLE"
   ]
  },
  {
   "cell_type": "code",
   "execution_count": 14,
   "id": "15e3db2c-5b78-4131-8212-7daa94e465d2",
   "metadata": {},
   "outputs": [
    {
     "data": {
      "text/plain": [
       "'my name is bhavesh jain'"
      ]
     },
     "execution_count": 14,
     "metadata": {},
     "output_type": "execute_result"
    }
   ],
   "source": [
    "#INHERITANCE IS THAT INHERITS THE CLASS LIKE THE CHILD CLASS INHERITS THE PARENT CLASS\n",
    "\n",
    "class female:\n",
    "    def name(self):\n",
    "        return\"my name is jiya jain\"\n",
    "    def age(self):\n",
    "        return\"my age is 20\"\n",
    "    \n",
    "class male(female):\n",
    "    def name(self):\n",
    "        return\"my name is bhavesh jain\"\n",
    "    def age(self):\n",
    "        return\"my age is 26\"\n",
    "    \n",
    "a = male()\n",
    "a.name()"
   ]
  },
  {
   "cell_type": "markdown",
   "id": "34483373-ade9-4e37-b72d-932281b8684c",
   "metadata": {},
   "source": []
  },
  {
   "cell_type": "code",
   "execution_count": null,
   "id": "3f18646a-4a7e-42fe-b3b0-0dc12722d0e4",
   "metadata": {},
   "outputs": [],
   "source": []
  },
  {
   "cell_type": "code",
   "execution_count": null,
   "id": "7e08d72f-c518-4a1d-8ed2-cbe5bc6acbe6",
   "metadata": {},
   "outputs": [],
   "source": []
  },
  {
   "cell_type": "code",
   "execution_count": null,
   "id": "a2f38ffa-02bf-4c4a-a70b-9d0ac3d2a241",
   "metadata": {},
   "outputs": [],
   "source": []
  },
  {
   "cell_type": "code",
   "execution_count": null,
   "id": "0f4e7b02-db6b-4c3a-a164-f67a0bcce331",
   "metadata": {},
   "outputs": [],
   "source": []
  },
  {
   "cell_type": "code",
   "execution_count": null,
   "id": "49a52b4c-dc37-4d57-999d-5a68389f1fe1",
   "metadata": {},
   "outputs": [],
   "source": []
  },
  {
   "cell_type": "code",
   "execution_count": null,
   "id": "a17f6ddc-185d-4177-be50-21acb242ab82",
   "metadata": {},
   "outputs": [],
   "source": []
  },
  {
   "cell_type": "code",
   "execution_count": null,
   "id": "6c906ad4-c80a-4ecb-b928-d8f663a28273",
   "metadata": {},
   "outputs": [],
   "source": []
  },
  {
   "cell_type": "code",
   "execution_count": null,
   "id": "391d30cf-543e-44e4-9ab1-c263baa1c93e",
   "metadata": {},
   "outputs": [],
   "source": []
  }
 ],
 "metadata": {
  "kernelspec": {
   "display_name": "Python 3 (ipykernel)",
   "language": "python",
   "name": "python3"
  },
  "language_info": {
   "codemirror_mode": {
    "name": "ipython",
    "version": 3
   },
   "file_extension": ".py",
   "mimetype": "text/x-python",
   "name": "python",
   "nbconvert_exporter": "python",
   "pygments_lexer": "ipython3",
   "version": "3.10.8"
  }
 },
 "nbformat": 4,
 "nbformat_minor": 5
}
