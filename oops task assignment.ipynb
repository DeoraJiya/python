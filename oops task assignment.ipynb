{
 "cells": [
  {
   "cell_type": "code",
   "execution_count": 15,
   "id": "729c133a-98ee-4e2b-a07e-b5d15b4cfd96",
   "metadata": {},
   "outputs": [
    {
     "ename": "SyntaxError",
     "evalue": "invalid syntax (3439379661.py, line 1)",
     "output_type": "error",
     "traceback": [
      "\u001b[0;36m  Cell \u001b[0;32mIn[15], line 1\u001b[0;36m\u001b[0m\n\u001b[0;31m    Q1.class vehicle:\u001b[0m\n\u001b[0m       ^\u001b[0m\n\u001b[0;31mSyntaxError\u001b[0m\u001b[0;31m:\u001b[0m invalid syntax\n"
     ]
    }
   ],
   "source": [
    "Q1.class vehicle:\n",
    "    def __init__(self,name_of_vehicle,max_speed,average_of_vehicle):\n",
    "        self.name_of_vehicle = name_of_vehicle\n",
    "        self.max_speed = max_speed\n",
    "        self.average_of_speed = average_of_speed\n",
    "        \n",
    "Q2.class car(vehicle):\n",
    "    def seating_capacity(capacity):\n",
    "        return \"seating_capacity\"\n",
    "    \n",
    "a = car(\"truck\", \"67km/hour\", 56)  \n",
    "a.car()"
   ]
  },
  {
   "cell_type": "markdown",
   "id": "a7c9f4cf-5a0f-44de-8ee5-4f6029cf3e00",
   "metadata": {},
   "source": [
    "Q3. What is multiple inheritance? Write a python code to demonstrate the multiple inheritance."
   ]
  },
  {
   "cell_type": "code",
   "execution_count": 3,
   "id": "ecaabe49-f00b-4709-90c7-18888a8cabd3",
   "metadata": {},
   "outputs": [
    {
     "data": {
      "text/plain": [
       "'this is my first parent class'"
      ]
     },
     "execution_count": 3,
     "metadata": {},
     "output_type": "execute_result"
    }
   ],
   "source": [
    "#multiple inheritance is in which there are 2 parent class and one child class and in which the child class inherits the both parent classes\n",
    "\n",
    "class class1:\n",
    "    def first_class(self):\n",
    "        return\"this is my first parent class\"\n",
    "    \n",
    "class class2:\n",
    "    def second_class(self):\n",
    "        return\"this is my second parent class\"\n",
    "    \n",
    "class class3(class1,class2):\n",
    "    pass\n",
    "\n",
    "a = class3()\n",
    "a.first_class()\n"
   ]
  },
  {
   "cell_type": "markdown",
   "id": "d7e37207-8c4d-4d27-9466-a180c98960ac",
   "metadata": {},
   "source": [
    "Q4. Getters and Setters in python? create a class and create a getter and setter method in this class."
   ]
  },
  {
   "cell_type": "code",
   "execution_count": null,
   "id": "8efddcfe-24e9-496c-8160-e756f99fc387",
   "metadata": {},
   "outputs": [],
   "source": [
    "# getters gets the data that it can access it and setters sets the data which helps to modify it"
   ]
  },
  {
   "cell_type": "code",
   "execution_count": 8,
   "id": "52d56b5d-032f-476f-8ea4-972eb0b1efe3",
   "metadata": {},
   "outputs": [
    {
     "name": "stdout",
     "output_type": "stream",
     "text": [
      "18\n",
      "20\n"
     ]
    }
   ],
   "source": [
    "class student:\n",
    "    def __init__(self,name,age):\n",
    "        self.name = name\n",
    "        self.__age = age #private member\n",
    "        \n",
    "    def get_age(self):\n",
    "        return self.__age\n",
    "    \n",
    "    def set_age(self,age):\n",
    "        self.__age = age\n",
    "        \n",
    "a = student(\"JIYA\", 18)\n",
    "\n",
    "print(a.get_age())\n",
    "\n",
    "a.set_age(20)\n",
    "\n",
    "print(a.get_age())\n",
    "    "
   ]
  },
  {
   "cell_type": "code",
   "execution_count": 9,
   "id": "61e27fff-3046-4b95-9e2d-aafcbe17bf2d",
   "metadata": {},
   "outputs": [],
   "source": [
    "#when a child class is allowed to redefine the method by extending some additional function then it is said to be method overriding. "
   ]
  },
  {
   "cell_type": "code",
   "execution_count": 11,
   "id": "16ea38c2-2c65-464b-863a-97379e7bc7d8",
   "metadata": {},
   "outputs": [
    {
     "data": {
      "text/plain": [
       "'max speed is 400km/hour'"
      ]
     },
     "execution_count": 11,
     "metadata": {},
     "output_type": "execute_result"
    }
   ],
   "source": [
    "class vehicle:\n",
    "    def max_speed(self):\n",
    "        return\"max speed is 100km/hour\"\n",
    "    \n",
    "class car(vehicle):\n",
    "    def max_speed(self): #overriding the method\n",
    "        return\"max speed is 400km/hour\"\n",
    "    \n",
    "a = car()\n",
    "a.max_speed()\n",
    "        "
   ]
  }
 ],
 "metadata": {
  "kernelspec": {
   "display_name": "Python 3 (ipykernel)",
   "language": "python",
   "name": "python3"
  },
  "language_info": {
   "codemirror_mode": {
    "name": "ipython",
    "version": 3
   },
   "file_extension": ".py",
   "mimetype": "text/x-python",
   "name": "python",
   "nbconvert_exporter": "python",
   "pygments_lexer": "ipython3",
   "version": "3.10.8"
  }
 },
 "nbformat": 4,
 "nbformat_minor": 5
}
