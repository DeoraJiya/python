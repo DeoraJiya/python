{
 "cells": [
  {
   "cell_type": "markdown",
   "id": "e0eb8cbd-e45d-4e3c-b2a9-0cebe980dd50",
   "metadata": {},
   "source": [
    "Q1: What is Estimation Statistics? Explain point estimate and interval estimate.\n",
    "\n",
    "Estimation is an observed numerical value used to estimate an unknown population parameter.\n",
    "Point estimate is a single value estimate the unknown population parameter.(sample mean)\n",
    "Interval estimate gives you a range of values where the parameter is expected to lie.(confidence interval)"
   ]
  },
  {
   "cell_type": "markdown",
   "id": "9e12c9aa-8b50-4888-9983-43c2811dcd0c",
   "metadata": {},
   "source": [
    "Q2. Write a Python function to estimate the population mean using a sample mean and standard\n",
    "deviation."
   ]
  },
  {
   "cell_type": "code",
   "execution_count": 6,
   "id": "2bd4fd34-ef23-48f8-b6ba-a82fcf65b038",
   "metadata": {},
   "outputs": [
    {
     "name": "stdout",
     "output_type": "stream",
     "text": [
      "63.0\n",
      "49.77147777593106\n"
     ]
    }
   ],
   "source": [
    "import numpy as np\n",
    "x = [156,45,23,21,70]\n",
    "print(np.mean(x))\n",
    "print(np.std(x))"
   ]
  },
  {
   "cell_type": "markdown",
   "id": "ed64dfc8-3e20-41b3-a378-48be5ea41d05",
   "metadata": {},
   "source": [
    "Q3: What is Hypothesis testing? Why is it used? State the importance of Hypothesis testing.\n",
    "\n",
    "The conclusions between population and sample data is find out by hypothesis testing.\n",
    "It is used to support scientific research and create breakthrough in knowlegde.\n",
    "It uses some steps:\n",
    "null hupothesis.\n",
    "alternate hypothesis\n",
    "statistical analysis.\n",
    "acceptance of hypothesis."
   ]
  },
  {
   "cell_type": "markdown",
   "id": "4221e8ef-90f0-4eb8-8752-d6f23329421e",
   "metadata": {},
   "source": [
    "Q4. Create a hypothesis that states whether the average weight of male college students is greater than\n",
    "the average weight of female college students."
   ]
  },
  {
   "cell_type": "markdown",
   "id": "c3466026-82cf-4955-8190-4d51c960d346",
   "metadata": {},
   "source": []
  },
  {
   "cell_type": "markdown",
   "id": "32395320-09d3-4c96-9b40-49942679cb12",
   "metadata": {},
   "source": [
    "Q5. Write a Python script to conduct a hypothesis test on the difference between two population means,\n",
    "given a sample from each population."
   ]
  },
  {
   "cell_type": "code",
   "execution_count": null,
   "id": "9870a9f5-0512-4648-b59a-20d37f27bb7e",
   "metadata": {},
   "outputs": [],
   "source": []
  },
  {
   "cell_type": "markdown",
   "id": "649e745f-788c-4c52-8ddf-e774a39ba0f2",
   "metadata": {},
   "source": [
    "Q6: What is a null and alternative hypothesis? Give some examples.\n",
    "\n",
    "Null hypothesis is a guess as to what will happen during your experiment.\n",
    "Alternate hypothesis is the opposite of null hypothesis.\n",
    "for example: if null hypothesis predicts something true then alternate hypothesis predicts to be false."
   ]
  },
  {
   "cell_type": "markdown",
   "id": "3d36c21f-2e5e-41b5-b21b-c2d7db91d395",
   "metadata": {},
   "source": [
    "Q7: Write down the steps involved in hypothesis testing.\n",
    "\n",
    "Steps involved in hypothesis testing are as follows:\n",
    "Defining null and alternate hypothesis.\n",
    "Decision boundary.\n",
    "Statistical analysis/experiments.\n",
    "Conclusion."
   ]
  },
  {
   "cell_type": "markdown",
   "id": "75c246e9-0089-43ce-a3dc-a154b621d263",
   "metadata": {},
   "source": [
    "Q8. Define p-value and explain its significance in hypothesis testing.\n",
    "\n",
    "P-value is said to be the level in hypothesis testing that represents the probability of occurrence of the given events. It is an alternative to the rejection point at which the null hypothesis would be rejected. \n",
    "The level of significance is usually represented as p-value. the smaller the p-value is the more likely it is that you would reject the null hypothesis."
   ]
  },
  {
   "cell_type": "markdown",
   "id": "704d9cbb-d712-4a6d-b7c6-e755bbd95a0e",
   "metadata": {},
   "source": [
    "Q9. Generate a Student's t-distribution plot using Python's matplotlib library, with the degrees of freedom\n",
    "parameter set to 10."
   ]
  },
  {
   "cell_type": "code",
   "execution_count": 43,
   "id": "8898c6e9-512c-47f4-ab40-23eac4cd35c7",
   "metadata": {},
   "outputs": [
    {
     "data": {
      "image/png": "[encoded data removed]",
      "text/plain": [
       "<Figure size 640x480 with 1 Axes>"
      ]
     },
     "metadata": {},
     "output_type": "display_data"
    }
   ],
   "source": [
    "import numpy as np\n",
    "from scipy.stats import t\n",
    "from matplotlib import pyplot\n",
    "x = np.linspace(-4,4,60)\n",
    "y = t.pdf(x,df=10)\n",
    "pyplot.plot(x,y)\n",
    "pyplot.show()"
   ]
  },
  {
   "cell_type": "markdown",
   "id": "2df43950-4b7d-47f0-b4e3-68466b5c7af3",
   "metadata": {},
   "source": [
    "Q10. Write a Python program to calculate the two-sample t-test for independent samples, given two\n",
    "random samples of equal size and a null hypothesis that the population means are equal."
   ]
  },
  {
   "cell_type": "code",
   "execution_count": 53,
   "id": "e16e19f7-3692-46f2-85c9-0496f2c021c4",
   "metadata": {},
   "outputs": [
    {
     "data": {
      "text/plain": [
       "Ttest_indResult(statistic=0.38138503569823723, pvalue=0.7073820719786774)"
      ]
     },
     "execution_count": 53,
     "metadata": {},
     "output_type": "execute_result"
    }
   ],
   "source": [
    "import numpy as np\n",
    "x = np.array([14,15,15,13,13,16,16,12,18,19])\n",
    "y = np.array([12,14,12,13,15,17,16,18,12,18])\n",
    "sv = 0.05\n",
    "import scipy.stats as stats\n",
    "stats.ttest_ind(a = x, b = y,equal_var = True)"
   ]
  },
  {
   "cell_type": "markdown",
   "id": "0a017070-16a1-4981-aa70-06ed536ceb43",
   "metadata": {},
   "source": [
    "Q11: What is Student’s t distribution? When to use the t-Distribution.\n",
    "\n",
    "The t distribution is also known as students's t distribution.It is similar to normal distribution with its bell shaped but has heavier tails.\n",
    "It is used when population variance/standard deviation is not known and the sample size is small."
   ]
  },
  {
   "cell_type": "markdown",
   "id": "6c909e0a-01b5-4992-b0de-7f5e66e9385d",
   "metadata": {},
   "source": [
    "Q12: What is t-statistic? State the formula for t-statistic.\n",
    "\n",
    "In stats, the t statistic is the ratio of the departure of the estimated value of a parameter from its hypothesized value to its standard error."
   ]
  },
  {
   "cell_type": "markdown",
   "id": "5edc1b8c-0ae1-4355-9c1c-de8b9301dbe3",
   "metadata": {},
   "source": [
    "Q13. A coffee shop owner wants to estimate the average daily revenue for their shop. They take a random\n",
    "sample of 50 days and find the sample mean revenue to be $500 with a standard deviation of $50.\n",
    "Estimate the population mean revenue with a 95% confidence interval."
   ]
  },
  {
   "cell_type": "code",
   "execution_count": 21,
   "id": "0efb256e-a5de-48d1-9f12-4a974e3b0fba",
   "metadata": {},
   "outputs": [
    {
     "name": "stderr",
     "output_type": "stream",
     "text": [
      "/tmp/ipykernel_99/3153237380.py:6: DeprecationWarning: Use of keyword argument `alpha` for method `interval` is deprecated. Use first positional argument or keyword argument `confidence` instead.\n",
      "  st.t.interval(alpha=0.95,df=len(random_sample)-1,loc=np.mean(random_sample),scale=st.sem(random_sample))\n"
     ]
    },
    {
     "data": {
      "text/plain": [
       "(0.45387874895379593, 0.6263849214757181)"
      ]
     },
     "execution_count": 21,
     "metadata": {},
     "output_type": "execute_result"
    }
   ],
   "source": [
    "import numpy as np\n",
    "import scipy.stats as st\n",
    "random_sample = np.random.random(50)\n",
    "np.mean(500)\n",
    "np.std(50)\n",
    "st.t.interval(alpha=0.95,df=len(random_sample)-1,loc=np.mean(random_sample),scale=st.sem(random_sample))\n"
   ]
  },
  {
   "cell_type": "markdown",
   "id": "49843dfc-fa40-4782-aba4-90a590ab13a4",
   "metadata": {},
   "source": [
    "A marketing company wants to estimate the average number of ads watched by viewers during a TV\n",
    "program. They take a random sample of 50 viewers and find that the sample mean is 4 with a standard\n",
    "deviation of 1.5. Estimate the population mean with a 99% confidence interval."
   ]
  },
  {
   "cell_type": "code",
   "execution_count": 17,
   "id": "33c72e9a-8040-473f-a239-71b731a193b1",
   "metadata": {},
   "outputs": [
    {
     "name": "stderr",
     "output_type": "stream",
     "text": [
      "/tmp/ipykernel_99/2538729618.py:7: DeprecationWarning: Use of keyword argument `alpha` for method `interval` is deprecated. Use first positional argument or keyword argument `confidence` instead.\n",
      "  st.t.interval(alpha=0.99,df=len(random_sample)-1,loc=np.mean(random_sample),scale=st.sem(random_sample))\n"
     ]
    },
    {
     "data": {
      "text/plain": [
       "(39.60214577195613, 59.95785422804387)"
      ]
     },
     "execution_count": 17,
     "metadata": {},
     "output_type": "execute_result"
    }
   ],
   "source": [
    "import numpy as np\n",
    "import scipy.stats as st\n",
    "random_sample = np.random.randint(0,100,50)\n",
    "random_sample\n",
    "np.mean(4)\n",
    "np.std(1.5)\n",
    "st.t.interval(alpha=0.99,df=len(random_sample)-1,loc=np.mean(random_sample),scale=st.sem(random_sample))"
   ]
  },
  {
   "cell_type": "code",
   "execution_count": null,
   "id": "64400662-d9b9-478f-8d66-1fa22652b44d",
   "metadata": {},
   "outputs": [],
   "source": []
  }
 ],
 "metadata": {
  "kernelspec": {
   "display_name": "Python 3 (ipykernel)",
   "language": "python",
   "name": "python3"
  },
  "language_info": {
   "codemirror_mode": {
    "name": "ipython",
    "version": 3
   },
   "file_extension": ".py",
   "mimetype": "text/x-python",
   "name": "python",
   "nbconvert_exporter": "python",
   "pygments_lexer": "ipython3",
   "version": "3.10.8"
  }
 },
 "nbformat": 4,
 "nbformat_minor": 5
}
