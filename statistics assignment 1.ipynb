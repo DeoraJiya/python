{
 "cells": [
  {
   "cell_type": "markdown",
   "id": "a77d8441-c5f0-483d-a483-9ef5de023872",
   "metadata": {},
   "source": [
    "Q1. What is Statistics?\n",
    "\n",
    "\n",
    "Statistics is a part of mathematics, that involves the collection, description, analysis, from quantitative data.\n",
    "It helps data scientists to know about the data graphically and is easy to make models."
   ]
  },
  {
   "cell_type": "markdown",
   "id": "18c63a2f-1ebf-43af-8fd2-8c2871d7dd20",
   "metadata": {},
   "source": [
    "Q2. Define the different types of statistics and give an example of when each type might be used.\n",
    "\n",
    "\n",
    "1.Descriptive statistics - It consists of organizing and summarizing data.\n",
    "eg: what is the average height of entire classroom.\n",
    "\n",
    "2.Inferential statistics - It consists of using data you have measured to form conclusion.\n",
    "eg: are the height of the students in classroom similar to what you expect in the entire college."
   ]
  },
  {
   "cell_type": "markdown",
   "id": "76b10e0f-f97e-4f9c-a024-52cd0c34b464",
   "metadata": {},
   "source": [
    "Q3. What are the different types of data and how do they differ from each other? Provide an example of\n",
    "each type of data.\n",
    "\n",
    "\n",
    "There are two types of data.\n",
    "1.Quantitative data (numbers-based, countable, measurable)\n",
    "We have two subpart in it: discrete data and continuous data.\n",
    "eg: weight in pounds, length in inches, number of days in week.\n",
    "\n",
    "2.Qualitative data (interpretation, descriptive)\n",
    "We have two subpart in it: nominal data and ordinal data.\n",
    "eg: gender, interview transcripts, customer feedback.\n"
   ]
  },
  {
   "cell_type": "markdown",
   "id": "7acd6c72-0cc9-4342-b2ce-d3d2659b8247",
   "metadata": {},
   "source": [
    "Q4. Categorise the following datasets with respect to quantitative and qualitative data types:\n",
    "(i) Grading in exam: A+, A, B+, B, C+, C, D, E\n",
    "(ii) Colour of mangoes: yellow, green, orange, red\n",
    "(iii) Height data of a class: [178.9, 179, 179.5, 176, 177.2, 178.3, 175.8,...]\n",
    "(iv) Number of mangoes exported by a farm: [500, 600, 478, 672, ...]\n",
    "\n",
    "\n",
    "1.Quantitative data.\n",
    "2.Qualitative data\n",
    "3.Quantitative data.\n",
    "4.Qualitative data."
   ]
  },
  {
   "cell_type": "markdown",
   "id": "ced69635-b180-4d7d-a3e3-e77e673caaef",
   "metadata": {},
   "source": [
    "Q5. Explain the concept of levels of measurement and give an example of a variable for each level.\n",
    "\n",
    "\n",
    "A variable has one of four different levels of measurement:\n",
    "\n",
    "Nominal scale data:\n",
    "The numbers in the variable are used oonly to classify the data. Words, letters and alphanumeric symbols can be used.\n",
    "\n",
    "Ordinal scale data:\n",
    "These level depicts some ordered relationship among the variables observations.\n",
    "eg: suppose a student scores highest grade of 100 in the class, in this case, he would be assigned the first rank . then another, classmate scores the second highest grade of an 92, and so on.\n",
    "\n",
    "Interval scale data:\n",
    "It specifies the distances between each interval on the scale from low to high interval.\n",
    "\n",
    "Ratio scale data:\n",
    "It contains \"0\" starting point.the order matters and differences are measurable."
   ]
  },
  {
   "cell_type": "markdown",
   "id": "7b3a83c3-5a55-4a30-aba3-c5818f38b0ea",
   "metadata": {},
   "source": [
    "Q6. Why is it important to understand the level of measurement when analyzing data? Provide an\n",
    "example to illustrate your answer.\n",
    "\n",
    "It is important because the level of measurement determines the type of statistical analysis that can be conducted, and, therefore, the type of conclusions that can be drawn from the research."
   ]
  },
  {
   "cell_type": "markdown",
   "id": "aa60c82a-b8d1-4045-b511-cf735e171737",
   "metadata": {},
   "source": [
    "Q7. How nominal data type is different from ordinal data type.\n",
    "\n",
    "Nominal data type uses words and letters whereas Ordinal data type considers the rankings.\n",
    "Nominal data are categorical, whereas Ordinal data is both categorical and quantitative."
   ]
  },
  {
   "cell_type": "markdown",
   "id": "8c01eeaa-de77-4fd4-8a48-920ca7ebe617",
   "metadata": {},
   "source": [
    "Q8. Which type of plot can be used to display data in terms of range?\n",
    "\n",
    "Histogram can be used to plot the data in terms of range."
   ]
  }
 ],
 "metadata": {
  "kernelspec": {
   "display_name": "Python 3 (ipykernel)",
   "language": "python",
   "name": "python3"
  },
  "language_info": {
   "codemirror_mode": {
    "name": "ipython",
    "version": 3
   },
   "file_extension": ".py",
   "mimetype": "text/x-python",
   "name": "python",
   "nbconvert_exporter": "python",
   "pygments_lexer": "ipython3",
   "version": "3.10.8"
  }
 },
 "nbformat": 4,
 "nbformat_minor": 5
}
