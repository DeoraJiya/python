{
 "cells": [
  {
   "cell_type": "code",
   "execution_count": null,
   "id": "d3949920-e18b-4374-9d84-29d9171e4af8",
   "metadata": {},
   "outputs": [],
   "source": [
    "EXPLAIN THE FOLLOWING TERMS:\n",
    "\n",
    "1.MACHINE LEARNING\n",
    "2.ARTIFICIAL INTELLIGENCE\n",
    "3.DEEP LEARNING\n",
    "\n",
    "1.ARTIFICIAL INTELLIGENCE:\n",
    "AI IS AN SMART APPLICATION THAT CAN PERFORM ITS OWN TASK WITHOUT ANY HUMAN INTERVATION TO ACHIEVE THE MORE AND MORE REWARDS.\n",
    "EXAMPLE: SELF DRIVING CARS, ALEXA\n",
    "\n",
    "2.MACHINE LEARNING:\n",
    "ML IS A PART OF DATA SCIENCE THAT PROVIDES STAT TOOLS TO ANALYZE, VISUALIZE, PREDICTIVE MODELS, FORECASTING AND MORE.\n",
    "EXAMPLE: NETFLIX, IT PROVIDES RECOMMENDATION ACCORDING TO OUR INPUT/SEARCH.\n",
    "\n",
    "3.DEEP LEARNING: \n",
    "DL IS A PART OF DATA SCIENCE THAT "
   ]
  },
  {
   "cell_type": "code",
   "execution_count": null,
   "id": "b144fcf6-6d98-481c-b3d5-9464855115ea",
   "metadata": {},
   "outputs": [],
   "source": [
    "WHAT IS SUPERVISED MACHINE LEARNING? LIST SOME EXAMPLES OF IT\n",
    "\n",
    "\n",
    "SUPERVISED LEARNING IS SAID TO BE WHEN YOU KNOW THE OUTPUT FEATURE OF DATASET.\n",
    "IT IS OF 2 TYPES:\n",
    "1. CLASSIFICATION: IT IS CATEGORICAL IN NATURE.\n",
    "PASS/FAIL\n",
    "2. REGRESSION. IT IS CONTINUOUS IN NATURE.\n",
    "PRICE OF HOUSE."
   ]
  },
  {
   "cell_type": "code",
   "execution_count": null,
   "id": "6816650b-562d-4102-8758-04be484191a9",
   "metadata": {},
   "outputs": [],
   "source": [
    "WHAT IS UNSUPERVISED MACHINE LEARNING? LIST SOME EXAMPLES OF IT\n",
    "\n",
    "UNSUPERVISED LEARNING IS SAID TO BE WHEN THE OUTPUT FEATURE IS NOT KNOWN.\n",
    "THE MAIN AIM IS TO MAKE CLUSTERS/GROUPS."
   ]
  },
  {
   "cell_type": "code",
   "execution_count": null,
   "id": "931774f1-bb26-429e-b3ba-2324498b88c7",
   "metadata": {},
   "outputs": [],
   "source": [
    "WHAT IS THE DIFFERENCE BETWEEN AI,ML,DL,DS\n",
    "\n",
    "1.ARTIFICIAL INTELLIGENCE:\n",
    "AI IS AN SMART APPLICATION THAT CAN PERFORM ITS OWN TASK WITHOUT ANY HUMAN INTERVATION TO ACHIEVE THE MORE AND MORE REWARDS.\n",
    "EXAMPLE: SELF DRIVING CARS, ALEXA\n",
    "\n",
    "2.MACHINE LEARNING:\n",
    "ML IS A PART OF DATA SCIENCE THAT PROVIDES STAT TOOLS TO ANALYZE, VISUALIZE, PREDICTIVE MODELS, FORECASTING AND MORE.\n",
    "EXAMPLE: NETFLIX, IT PROVIDES RECOMMENDATION ACCORDING TO OUR INPUT/SEARCH.\n",
    "\n",
    "3.DEEP LEARNING: \n",
    "DL IS A SUBSET OF MACHINE LEARNING THAT MIMICS THE HUMAN BRAIN. IT USES MULTI LAYERED NEURAL NETWORK.\n",
    "EXAMPLE: OBJECT DETECTION, IMAGE RECOGNITION.\n",
    "\n",
    "4.DATA SCIENCE:\n",
    "DS IS SAID TO BE THE WHOLE PART OF THIS.\n",
    "THE DATA SCIENTIST HAS TO BE VERY MUCH ACTIVE ABOUT EACH AND EVERY DOMAIN."
   ]
  },
  {
   "cell_type": "code",
   "execution_count": null,
   "id": "3efd445d-3ac6-42c3-af86-fe13af37446d",
   "metadata": {},
   "outputs": [],
   "source": [
    "WHAT ARE THE MAIN DIFFERENCES BETWEEN SUPERVISED, UNSUPERVISED, SEMI-SUPERVISED LEARNING?\n",
    "\n",
    "SUPERVISED LEARNING IS SAID TO BE WHEN YOU KNOW THE OUTPUT FEATURE OF DATASET.\n",
    "UNSUPERVISED LEARNING IS SAID TO BE WHEN THE OUTPUT FEATURE IS NOT KNOWN.\n",
    "SEMI-SUPERVISED LEARNING IS SAID TO BE THE COMBINATION OF THESE BOTH LEARNINGS."
   ]
  },
  {
   "cell_type": "code",
   "execution_count": null,
   "id": "f09f330f-8145-4819-966c-1c26ea36e3c3",
   "metadata": {},
   "outputs": [],
   "source": [
    "WHAT IS TRAIN, TEST AND VALIDATION SPLIT? EXPLAIN IT\n",
    "\n",
    "TRAINING DATASET IS WE TRAIN OUR DATASET.\n",
    "VALIDATION DATASET IS SAID HYPER PARAMETER TUNING OF THE MODEL. IT INCREASES THE PERFORMANCE\n",
    "(CAN WE ADD SOME ACCURACY BY CHANGING SOME PARAMETERS)\n",
    "TEST DATASET IS TO PERFORM THE TEST PROCESS OF THE DATASET.\n",
    "THIS HAS BEEN CONSIDERED TO BE IMPORTANT STEP BEFORE PREPARING A MODEL.\n"
   ]
  },
  {
   "cell_type": "code",
   "execution_count": null,
   "id": "790a7547-a4c4-4cd3-9795-fe784e35e9cd",
   "metadata": {},
   "outputs": [],
   "source": []
  },
  {
   "cell_type": "code",
   "execution_count": null,
   "id": "051444ef-35f6-4f15-8887-dcc393c158af",
   "metadata": {},
   "outputs": [],
   "source": [
    "LIST OUT SOME COMMONLY USED SUPERVISED LEARNING ALGORITHM AND UNSUPERVISED LEARNING ALGORITHM!\n",
    "\n",
    "SUPERVISED LEARNING:\n",
    "DECISION TREE, LOGISTIC REGRESSION, LINEAR REGRESSION AND MORE.\n",
    "\n",
    "UNSUPERVISED LEARNING:\n",
    "K-MEANS CLUSTERING, HIERARCHICAL CLUSTERING AND APRIORI ALGORITHM."
   ]
  }
 ],
 "metadata": {
  "kernelspec": {
   "display_name": "Python 3 (ipykernel)",
   "language": "python",
   "name": "python3"
  },
  "language_info": {
   "codemirror_mode": {
    "name": "ipython",
    "version": 3
   },
   "file_extension": ".py",
   "mimetype": "text/x-python",
   "name": "python",
   "nbconvert_exporter": "python",
   "pygments_lexer": "ipython3",
   "version": "3.10.8"
  }
 },
 "nbformat": 4,
 "nbformat_minor": 5
}
